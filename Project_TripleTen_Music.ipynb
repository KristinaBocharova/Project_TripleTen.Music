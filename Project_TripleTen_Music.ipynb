{
 "cells": [
  {
   "cell_type": "markdown",
   "metadata": {
    "id": "E0vqbgi9ay0H"
   },
   "source": [
    "# TripleTen.Music"
   ]
  },
  {
   "cell_type": "markdown",
   "metadata": {
    "id": "fhq_eyov_Zcs"
   },
   "source": [
    "# Contents <a id='back'></a>\n",
    "\n",
    "* [Introduction](#intro)\n",
    "* [Stage 1. Data overview](#data_review)\n",
    "    * [Conclusions](#data_review_conclusions)\n",
    "* [Stage 2. Data preprocessing](#data_preprocessing)\n",
    "    * [2.1 Header style](#header_style)\n",
    "    * [2.2 Missing values](#missing_values)\n",
    "    * [2.3 Duplicates](#duplicates)\n",
    "    * [2.4 Conclusions](#data_preprocessing_conclusions)\n",
    "* [Stage 3. Testing the hypotheses](#hypotheses)\n",
    "    * [3.1 Hypothesis 1: user activity in the two cities](#activity)\n",
    "    * [3.2 Hypothesis 2: music preferences on Monday and Friday](#week)\n",
    "    * [3.3 Hypothesis 3: genre preferences in Springfield and Shelbyville](#genre)\n",
    "* [Findings](#end)"
   ]
  },
  {
   "cell_type": "markdown",
   "metadata": {
    "id": "VUC88oWjTJw2"
   },
   "source": [
    "## Introduction <a id='intro'></a>\n",
    "Whenever we're doing research, we need to formulate hypotheses that we can then test. Sometimes we accept these hypotheses; other times, we reject them. To make the right decisions, a business must be able to understand whether or not it's making the right assumptions.\n",
    "\n",
    "In this project, you'll compare the music preferences of the cities of Springfield and Shelbyville. You'll study real TripleTen.Music data to test the hypotheses below and compare user behavior for these two cities.\n",
    "\n",
    "### Goal: \n",
    "Test three hypotheses:\n",
    "1. User activity differs depending on the day of the week and from city to city. \n",
    "2. On Monday mornings, Springfield and Shelbyville residents listen to different genres. This is also true for Friday evenings. \n",
    "3. Springfield and Shelbyville listeners have different preferences. In Springfield, they prefer pop, while Shelbyville has more rap fans.\n",
    "\n",
    "### Stages \n",
    "Data on user behavior is stored in the file `/datasets/music_project_en.csv`. There is no information about the quality of the data, so you will need to explore it before testing the hypotheses. \n",
    "\n",
    "First, you'll evaluate the quality of the data and see whether its issues are significant. Then, during data preprocessing, you will try to account for the most critical problems.\n",
    " \n",
    "Your project will consist of three stages:\n",
    " 1. Data overview\n",
    " 2. Data preprocessing\n",
    " 3. Testing the hypotheses\n",
    " \n",
    "[Back to Contents](#back)"
   ]
  },
  {
   "cell_type": "markdown",
   "metadata": {
    "id": "Ml1hmfXC_Zcs"
   },
   "source": [
    "## Stage 1. Data overview <a id='data_review'></a>\n",
    "\n",
    "Open the data on TripleTen.Music and explore it."
   ]
  },
  {
   "cell_type": "markdown",
   "metadata": {
    "id": "57eAOGIz_Zcs"
   },
   "source": [
    "You'll need `pandas`, so import it."
   ]
  },
  {
   "cell_type": "code",
   "execution_count": 1,
   "metadata": {
    "id": "AXN7PHPN_Zcs"
   },
   "outputs": [],
   "source": [
    "import pandas as pd # importing pandas\n"
   ]
  },
  {
   "cell_type": "markdown",
   "metadata": {
    "id": "SG23P8tt_Zcs"
   },
   "source": [
    "Read the file `music_project_en.csv` from the `/datasets/` folder and save it in the `df` variable:"
   ]
  },
  {
   "cell_type": "code",
   "execution_count": 2,
   "metadata": {
    "id": "fFVu7vqh_Zct"
   },
   "outputs": [
    {
     "data": {
      "text/html": [
       "<div>\n",
       "<style scoped>\n",
       "    .dataframe tbody tr th:only-of-type {\n",
       "        vertical-align: middle;\n",
       "    }\n",
       "\n",
       "    .dataframe tbody tr th {\n",
       "        vertical-align: top;\n",
       "    }\n",
       "\n",
       "    .dataframe thead th {\n",
       "        text-align: right;\n",
       "    }\n",
       "</style>\n",
       "<table border=\"1\" class=\"dataframe\">\n",
       "  <thead>\n",
       "    <tr style=\"text-align: right;\">\n",
       "      <th></th>\n",
       "      <th>userID</th>\n",
       "      <th>Track</th>\n",
       "      <th>artist</th>\n",
       "      <th>genre</th>\n",
       "      <th>City</th>\n",
       "      <th>time</th>\n",
       "      <th>Day</th>\n",
       "    </tr>\n",
       "  </thead>\n",
       "  <tbody>\n",
       "    <tr>\n",
       "      <th>0</th>\n",
       "      <td>FFB692EC</td>\n",
       "      <td>Kamigata To Boots</td>\n",
       "      <td>The Mass Missile</td>\n",
       "      <td>rock</td>\n",
       "      <td>Shelbyville</td>\n",
       "      <td>20:28:33</td>\n",
       "      <td>Wednesday</td>\n",
       "    </tr>\n",
       "    <tr>\n",
       "      <th>1</th>\n",
       "      <td>55204538</td>\n",
       "      <td>Delayed Because of Accident</td>\n",
       "      <td>Andreas Rönnberg</td>\n",
       "      <td>rock</td>\n",
       "      <td>Springfield</td>\n",
       "      <td>14:07:09</td>\n",
       "      <td>Friday</td>\n",
       "    </tr>\n",
       "    <tr>\n",
       "      <th>2</th>\n",
       "      <td>20EC38</td>\n",
       "      <td>Funiculì funiculà</td>\n",
       "      <td>Mario Lanza</td>\n",
       "      <td>pop</td>\n",
       "      <td>Shelbyville</td>\n",
       "      <td>20:58:07</td>\n",
       "      <td>Wednesday</td>\n",
       "    </tr>\n",
       "    <tr>\n",
       "      <th>3</th>\n",
       "      <td>A3DD03C9</td>\n",
       "      <td>Dragons in the Sunset</td>\n",
       "      <td>Fire + Ice</td>\n",
       "      <td>folk</td>\n",
       "      <td>Shelbyville</td>\n",
       "      <td>08:37:09</td>\n",
       "      <td>Monday</td>\n",
       "    </tr>\n",
       "    <tr>\n",
       "      <th>4</th>\n",
       "      <td>E2DC1FAE</td>\n",
       "      <td>Soul People</td>\n",
       "      <td>Space Echo</td>\n",
       "      <td>dance</td>\n",
       "      <td>Springfield</td>\n",
       "      <td>08:34:34</td>\n",
       "      <td>Monday</td>\n",
       "    </tr>\n",
       "    <tr>\n",
       "      <th>...</th>\n",
       "      <td>...</td>\n",
       "      <td>...</td>\n",
       "      <td>...</td>\n",
       "      <td>...</td>\n",
       "      <td>...</td>\n",
       "      <td>...</td>\n",
       "      <td>...</td>\n",
       "    </tr>\n",
       "    <tr>\n",
       "      <th>65074</th>\n",
       "      <td>729CBB09</td>\n",
       "      <td>My Name</td>\n",
       "      <td>McLean</td>\n",
       "      <td>rnb</td>\n",
       "      <td>Springfield</td>\n",
       "      <td>13:32:28</td>\n",
       "      <td>Wednesday</td>\n",
       "    </tr>\n",
       "    <tr>\n",
       "      <th>65075</th>\n",
       "      <td>D08D4A55</td>\n",
       "      <td>Maybe One Day (feat. Black Spade)</td>\n",
       "      <td>Blu &amp; Exile</td>\n",
       "      <td>hip</td>\n",
       "      <td>Shelbyville</td>\n",
       "      <td>10:00:00</td>\n",
       "      <td>Monday</td>\n",
       "    </tr>\n",
       "    <tr>\n",
       "      <th>65076</th>\n",
       "      <td>C5E3A0D5</td>\n",
       "      <td>Jalopiina</td>\n",
       "      <td>NaN</td>\n",
       "      <td>industrial</td>\n",
       "      <td>Springfield</td>\n",
       "      <td>20:09:26</td>\n",
       "      <td>Friday</td>\n",
       "    </tr>\n",
       "    <tr>\n",
       "      <th>65077</th>\n",
       "      <td>321D0506</td>\n",
       "      <td>Freight Train</td>\n",
       "      <td>Chas McDevitt</td>\n",
       "      <td>rock</td>\n",
       "      <td>Springfield</td>\n",
       "      <td>21:43:59</td>\n",
       "      <td>Friday</td>\n",
       "    </tr>\n",
       "    <tr>\n",
       "      <th>65078</th>\n",
       "      <td>3A64EF84</td>\n",
       "      <td>Tell Me Sweet Little Lies</td>\n",
       "      <td>Monica Lopez</td>\n",
       "      <td>country</td>\n",
       "      <td>Springfield</td>\n",
       "      <td>21:59:46</td>\n",
       "      <td>Friday</td>\n",
       "    </tr>\n",
       "  </tbody>\n",
       "</table>\n",
       "<p>65079 rows × 7 columns</p>\n",
       "</div>"
      ],
      "text/plain": [
       "         userID                              Track            artist  \\\n",
       "0      FFB692EC                  Kamigata To Boots  The Mass Missile   \n",
       "1      55204538        Delayed Because of Accident  Andreas Rönnberg   \n",
       "2        20EC38                  Funiculì funiculà       Mario Lanza   \n",
       "3      A3DD03C9              Dragons in the Sunset        Fire + Ice   \n",
       "4      E2DC1FAE                        Soul People        Space Echo   \n",
       "...         ...                                ...               ...   \n",
       "65074  729CBB09                            My Name            McLean   \n",
       "65075  D08D4A55  Maybe One Day (feat. Black Spade)       Blu & Exile   \n",
       "65076  C5E3A0D5                          Jalopiina               NaN   \n",
       "65077  321D0506                      Freight Train     Chas McDevitt   \n",
       "65078  3A64EF84          Tell Me Sweet Little Lies      Monica Lopez   \n",
       "\n",
       "            genre       City        time        Day  \n",
       "0            rock  Shelbyville  20:28:33  Wednesday  \n",
       "1            rock  Springfield  14:07:09     Friday  \n",
       "2             pop  Shelbyville  20:58:07  Wednesday  \n",
       "3            folk  Shelbyville  08:37:09     Monday  \n",
       "4           dance  Springfield  08:34:34     Monday  \n",
       "...           ...          ...       ...        ...  \n",
       "65074         rnb  Springfield  13:32:28  Wednesday  \n",
       "65075         hip  Shelbyville  10:00:00     Monday  \n",
       "65076  industrial  Springfield  20:09:26     Friday  \n",
       "65077        rock  Springfield  21:43:59     Friday  \n",
       "65078     country  Springfield  21:59:46     Friday  \n",
       "\n",
       "[65079 rows x 7 columns]"
      ]
     },
     "execution_count": 2,
     "metadata": {},
     "output_type": "execute_result"
    }
   ],
   "source": [
    "df = pd.read_csv ('/datasets/music_project_en.csv')\n",
    "df# reading the file and storing it to df"
   ]
  },
  {
   "cell_type": "markdown",
   "metadata": {
    "id": "rDoOMd3uTqnZ"
   },
   "source": [
    "Print the first 10 table rows:"
   ]
  },
  {
   "cell_type": "code",
   "execution_count": 3,
   "metadata": {
    "id": "oWTVX3gW_Zct"
   },
   "outputs": [
    {
     "data": {
      "text/html": [
       "<div>\n",
       "<style scoped>\n",
       "    .dataframe tbody tr th:only-of-type {\n",
       "        vertical-align: middle;\n",
       "    }\n",
       "\n",
       "    .dataframe tbody tr th {\n",
       "        vertical-align: top;\n",
       "    }\n",
       "\n",
       "    .dataframe thead th {\n",
       "        text-align: right;\n",
       "    }\n",
       "</style>\n",
       "<table border=\"1\" class=\"dataframe\">\n",
       "  <thead>\n",
       "    <tr style=\"text-align: right;\">\n",
       "      <th></th>\n",
       "      <th>userID</th>\n",
       "      <th>Track</th>\n",
       "      <th>artist</th>\n",
       "      <th>genre</th>\n",
       "      <th>City</th>\n",
       "      <th>time</th>\n",
       "      <th>Day</th>\n",
       "    </tr>\n",
       "  </thead>\n",
       "  <tbody>\n",
       "    <tr>\n",
       "      <th>0</th>\n",
       "      <td>FFB692EC</td>\n",
       "      <td>Kamigata To Boots</td>\n",
       "      <td>The Mass Missile</td>\n",
       "      <td>rock</td>\n",
       "      <td>Shelbyville</td>\n",
       "      <td>20:28:33</td>\n",
       "      <td>Wednesday</td>\n",
       "    </tr>\n",
       "    <tr>\n",
       "      <th>1</th>\n",
       "      <td>55204538</td>\n",
       "      <td>Delayed Because of Accident</td>\n",
       "      <td>Andreas Rönnberg</td>\n",
       "      <td>rock</td>\n",
       "      <td>Springfield</td>\n",
       "      <td>14:07:09</td>\n",
       "      <td>Friday</td>\n",
       "    </tr>\n",
       "    <tr>\n",
       "      <th>2</th>\n",
       "      <td>20EC38</td>\n",
       "      <td>Funiculì funiculà</td>\n",
       "      <td>Mario Lanza</td>\n",
       "      <td>pop</td>\n",
       "      <td>Shelbyville</td>\n",
       "      <td>20:58:07</td>\n",
       "      <td>Wednesday</td>\n",
       "    </tr>\n",
       "    <tr>\n",
       "      <th>3</th>\n",
       "      <td>A3DD03C9</td>\n",
       "      <td>Dragons in the Sunset</td>\n",
       "      <td>Fire + Ice</td>\n",
       "      <td>folk</td>\n",
       "      <td>Shelbyville</td>\n",
       "      <td>08:37:09</td>\n",
       "      <td>Monday</td>\n",
       "    </tr>\n",
       "    <tr>\n",
       "      <th>4</th>\n",
       "      <td>E2DC1FAE</td>\n",
       "      <td>Soul People</td>\n",
       "      <td>Space Echo</td>\n",
       "      <td>dance</td>\n",
       "      <td>Springfield</td>\n",
       "      <td>08:34:34</td>\n",
       "      <td>Monday</td>\n",
       "    </tr>\n",
       "    <tr>\n",
       "      <th>5</th>\n",
       "      <td>842029A1</td>\n",
       "      <td>Chains</td>\n",
       "      <td>Obladaet</td>\n",
       "      <td>rusrap</td>\n",
       "      <td>Shelbyville</td>\n",
       "      <td>13:09:41</td>\n",
       "      <td>Friday</td>\n",
       "    </tr>\n",
       "    <tr>\n",
       "      <th>6</th>\n",
       "      <td>4CB90AA5</td>\n",
       "      <td>True</td>\n",
       "      <td>Roman Messer</td>\n",
       "      <td>dance</td>\n",
       "      <td>Springfield</td>\n",
       "      <td>13:00:07</td>\n",
       "      <td>Wednesday</td>\n",
       "    </tr>\n",
       "    <tr>\n",
       "      <th>7</th>\n",
       "      <td>F03E1C1F</td>\n",
       "      <td>Feeling This Way</td>\n",
       "      <td>Polina Griffith</td>\n",
       "      <td>dance</td>\n",
       "      <td>Springfield</td>\n",
       "      <td>20:47:49</td>\n",
       "      <td>Wednesday</td>\n",
       "    </tr>\n",
       "    <tr>\n",
       "      <th>8</th>\n",
       "      <td>8FA1D3BE</td>\n",
       "      <td>L’estate</td>\n",
       "      <td>Julia Dalia</td>\n",
       "      <td>ruspop</td>\n",
       "      <td>Springfield</td>\n",
       "      <td>09:17:40</td>\n",
       "      <td>Friday</td>\n",
       "    </tr>\n",
       "    <tr>\n",
       "      <th>9</th>\n",
       "      <td>E772D5C0</td>\n",
       "      <td>Pessimist</td>\n",
       "      <td>NaN</td>\n",
       "      <td>dance</td>\n",
       "      <td>Shelbyville</td>\n",
       "      <td>21:20:49</td>\n",
       "      <td>Wednesday</td>\n",
       "    </tr>\n",
       "  </tbody>\n",
       "</table>\n",
       "</div>"
      ],
      "text/plain": [
       "     userID                        Track            artist   genre  \\\n",
       "0  FFB692EC            Kamigata To Boots  The Mass Missile    rock   \n",
       "1  55204538  Delayed Because of Accident  Andreas Rönnberg    rock   \n",
       "2    20EC38            Funiculì funiculà       Mario Lanza     pop   \n",
       "3  A3DD03C9        Dragons in the Sunset        Fire + Ice    folk   \n",
       "4  E2DC1FAE                  Soul People        Space Echo   dance   \n",
       "5  842029A1                       Chains          Obladaet  rusrap   \n",
       "6  4CB90AA5                         True      Roman Messer   dance   \n",
       "7  F03E1C1F             Feeling This Way   Polina Griffith   dance   \n",
       "8  8FA1D3BE                     L’estate       Julia Dalia  ruspop   \n",
       "9  E772D5C0                    Pessimist               NaN   dance   \n",
       "\n",
       "        City        time        Day  \n",
       "0  Shelbyville  20:28:33  Wednesday  \n",
       "1  Springfield  14:07:09     Friday  \n",
       "2  Shelbyville  20:58:07  Wednesday  \n",
       "3  Shelbyville  08:37:09     Monday  \n",
       "4  Springfield  08:34:34     Monday  \n",
       "5  Shelbyville  13:09:41     Friday  \n",
       "6  Springfield  13:00:07  Wednesday  \n",
       "7  Springfield  20:47:49  Wednesday  \n",
       "8  Springfield  09:17:40     Friday  \n",
       "9  Shelbyville  21:20:49  Wednesday  "
      ]
     },
     "execution_count": 3,
     "metadata": {},
     "output_type": "execute_result"
    }
   ],
   "source": [
    "df.head(10)# obtaining the first 10 rows from the df table"
   ]
  },
  {
   "cell_type": "markdown",
   "metadata": {
    "id": "EO73Kwic_Zct"
   },
   "source": [
    "Obtaining the general information about the table with one command:"
   ]
  },
  {
   "cell_type": "code",
   "execution_count": 4,
   "metadata": {
    "id": "DSf2kIb-_Zct"
   },
   "outputs": [
    {
     "name": "stdout",
     "output_type": "stream",
     "text": [
      "<class 'pandas.core.frame.DataFrame'>\n",
      "RangeIndex: 65079 entries, 0 to 65078\n",
      "Data columns (total 7 columns):\n",
      " #   Column    Non-Null Count  Dtype \n",
      "---  ------    --------------  ----- \n",
      " 0     userID  65079 non-null  object\n",
      " 1   Track     63736 non-null  object\n",
      " 2   artist    57512 non-null  object\n",
      " 3   genre     63881 non-null  object\n",
      " 4     City    65079 non-null  object\n",
      " 5   time      65079 non-null  object\n",
      " 6   Day       65079 non-null  object\n",
      "dtypes: object(7)\n",
      "memory usage: 3.5+ MB\n"
     ]
    }
   ],
   "source": [
    "df.info()# obtaining general information about the data in df"
   ]
  },
  {
   "cell_type": "markdown",
   "metadata": {
    "id": "TaQ2Iwbr_Zct"
   },
   "source": [
    "The table contains seven columns. They all store the same data type: `object`.\n",
    "\n",
    "According to the documentation:\n",
    "- `'userID'` — user identifier\n",
    "- `'Track'` — track title\n",
    "- `'artist'` — artist's name\n",
    "- `'genre'`\n",
    "- `'City'` — user's city\n",
    "- `'time'` — the exact time the track was played\n",
    "- `'Day'` — day of the week\n",
    "\n",
    "We can see three issues with style in the column names:\n",
    "1. Some names are uppercase, some are lowercase.\n",
    "2. There are spaces in some names.\n",
    "3. `Detect the third issue yourself and describe it here`.\n",
    "\n",
    "The number of column values is different. This means the data contains missing values.\n"
   ]
  },
  {
   "cell_type": "markdown",
   "metadata": {
    "id": "MCB6-dXG_Zct"
   },
   "source": [
    "### Conclusions <a id='data_review_conclusions'></a> \n",
    "\n",
    "Each row in the table stores data on a track that was played. Some columns describe the track itself: its title, artist and genre. The rest convey information about the user: the city they come from, the time they played the track. \n",
    "\n",
    "It's clear that the data is sufficient to test the hypotheses. However, there are missing values.\n",
    "\n",
    "To move forward, we need to preprocess the data."
   ]
  },
  {
   "cell_type": "markdown",
   "metadata": {
    "id": "3eL__vcwViOi"
   },
   "source": [
    "[Back to Contents](#back)"
   ]
  },
  {
   "cell_type": "markdown",
   "metadata": {
    "id": "SjYF6Ub9_Zct"
   },
   "source": [
    "## Stage 2. Data preprocessing <a id='data_preprocessing'></a>\n",
    "Correct the formatting in the column headers and deal with the missing values. Then, check whether there are duplicates in the data."
   ]
  },
  {
   "cell_type": "markdown",
   "metadata": {
    "id": "dIaKXr29_Zct"
   },
   "source": [
    "### Header style <a id='header_style'></a>\n",
    "Print the column header:"
   ]
  },
  {
   "cell_type": "code",
   "execution_count": 5,
   "metadata": {
    "id": "oKOTdF_Q_Zct"
   },
   "outputs": [
    {
     "data": {
      "text/plain": [
       "Index(['  userID', 'Track', 'artist', 'genre', '  City  ', 'time', 'Day'], dtype='object')"
      ]
     },
     "execution_count": 5,
     "metadata": {},
     "output_type": "execute_result"
    }
   ],
   "source": [
    "df.columns# the list of column names in the df table"
   ]
  },
  {
   "cell_type": "markdown",
   "metadata": {
    "id": "zj5534cv_Zct"
   },
   "source": [
    "Change column names according to the rules of good style:\n",
    "* If the name has several words, use snake_case\n",
    "* All characters must be lowercase\n",
    "* Delete spaces"
   ]
  },
  {
   "cell_type": "code",
   "execution_count": 6,
   "metadata": {
    "id": "ISlFqs5y_Zct"
   },
   "outputs": [],
   "source": [
    "df=df.rename (columns = {'  userID' : 'user_id',\n",
    "                         'Track' : 'track',\n",
    "                         '  City  ' : 'city',\n",
    "                         'Day' : 'day'})# renaming columns"
   ]
  },
  {
   "cell_type": "markdown",
   "metadata": {
    "id": "1dqbh00J_Zct"
   },
   "source": [
    "Check the result. Print the names of the columns once more:"
   ]
  },
  {
   "cell_type": "code",
   "execution_count": 7,
   "metadata": {
    "id": "d4NOAmTW_Zct"
   },
   "outputs": [
    {
     "data": {
      "text/plain": [
       "Index(['user_id', 'track', 'artist', 'genre', 'city', 'time', 'day'], dtype='object')"
      ]
     },
     "execution_count": 7,
     "metadata": {},
     "output_type": "execute_result"
    }
   ],
   "source": [
    "df.columns# checking result: the list of column names"
   ]
  },
  {
   "cell_type": "markdown",
   "metadata": {
    "id": "xYJk6ksJVpOl"
   },
   "source": [
    "[Back to Contents](#back)"
   ]
  },
  {
   "cell_type": "markdown",
   "metadata": {
    "id": "5ISfbcfY_Zct"
   },
   "source": [
    "### Missing values <a id='missing_values'></a>\n",
    "First, find the number of missing values in the table. To do so, use two `pandas` methods:"
   ]
  },
  {
   "cell_type": "code",
   "execution_count": 8,
   "metadata": {
    "id": "RskX29qr_Zct"
   },
   "outputs": [
    {
     "data": {
      "text/plain": [
       "user_id       0\n",
       "track      1343\n",
       "artist     7567\n",
       "genre      1198\n",
       "city          0\n",
       "time          0\n",
       "day           0\n",
       "dtype: int64"
      ]
     },
     "execution_count": 8,
     "metadata": {},
     "output_type": "execute_result"
    }
   ],
   "source": [
    "df.isna().sum()# calculating missing values"
   ]
  },
  {
   "cell_type": "markdown",
   "metadata": {
    "id": "qubhgnlO_Zct"
   },
   "source": [
    "Not all missing values affect the research. For instance, the missing values in `track` and `artist` are not critical. You can simply replace them with clear markers.\n",
    "\n",
    "But missing values in `'genre'` can affect the comparison of music preferences in Springfield and Shelbyville. In real life, it would be useful to learn the reasons why the data is missing and try to make up for them. But we do not have that opportunity in this project. So you will have to:\n",
    "* Fill in these missing values with markers\n",
    "* Evaluate how much the missing values may affect your computations"
   ]
  },
  {
   "cell_type": "markdown",
   "metadata": {
    "id": "fSv2laPA_Zct"
   },
   "source": [
    "Replace the missing values in `'track'`, `'artist'`, and `'genre'` with the string `'unknown'`. To do this, create the `columns_to_replace` list, loop over it with `for`, and replace the missing values in each of the columns:"
   ]
  },
  {
   "cell_type": "code",
   "execution_count": 9,
   "metadata": {
    "id": "KplB5qWs_Zct"
   },
   "outputs": [],
   "source": [
    "columns_to_replace = ['track', 'artist', 'genre']\n",
    "for column in columns_to_replace:\n",
    "    df[column].fillna('unknown', inplace=True)# looping over column names and replacing missing values with 'unknown'"
   ]
  },
  {
   "cell_type": "markdown",
   "metadata": {},
   "source": []
  },
  {
   "cell_type": "markdown",
   "metadata": {
    "id": "Ilsm-MZo_Zct"
   },
   "source": [
    "Make sure the table contains no more missing values. Count the missing values again."
   ]
  },
  {
   "cell_type": "code",
   "execution_count": 10,
   "metadata": {
    "id": "Tq4nYRX4_Zct"
   },
   "outputs": [
    {
     "data": {
      "text/plain": [
       "user_id    0\n",
       "track      0\n",
       "artist     0\n",
       "genre      0\n",
       "city       0\n",
       "time       0\n",
       "day        0\n",
       "dtype: int64"
      ]
     },
     "execution_count": 10,
     "metadata": {},
     "output_type": "execute_result"
    }
   ],
   "source": [
    "df.isna().sum()# counting missing values"
   ]
  },
  {
   "cell_type": "markdown",
   "metadata": {
    "id": "74ZIBmq9VrsK"
   },
   "source": [
    "[Back to Contents](#back)"
   ]
  },
  {
   "cell_type": "markdown",
   "metadata": {
    "id": "BWKRtBJ3_Zct"
   },
   "source": [
    "### Duplicates <a id='duplicates'></a>\n",
    "Find the number of obvious duplicates in the table using one command:"
   ]
  },
  {
   "cell_type": "code",
   "execution_count": 11,
   "metadata": {
    "id": "36eES_S0_Zct"
   },
   "outputs": [
    {
     "data": {
      "text/plain": [
       "3826"
      ]
     },
     "execution_count": 11,
     "metadata": {},
     "output_type": "execute_result"
    }
   ],
   "source": [
    "df.duplicated().sum()# counting clear duplicates"
   ]
  },
  {
   "cell_type": "markdown",
   "metadata": {
    "id": "Ot25h6XR_Zct"
   },
   "source": [
    "Call the `pandas` method for getting rid of obvious duplicates:"
   ]
  },
  {
   "cell_type": "code",
   "execution_count": 12,
   "metadata": {
    "id": "exFHq6tt_Zct"
   },
   "outputs": [],
   "source": [
    "df=df.drop_duplicates()# removing obvious duplicates"
   ]
  },
  {
   "cell_type": "markdown",
   "metadata": {
    "id": "Im2YwBEG_Zct"
   },
   "source": [
    "Count obvious duplicates once more to make sure you have removed all of them:"
   ]
  },
  {
   "cell_type": "code",
   "execution_count": 13,
   "metadata": {
    "id": "-8PuNWQ0_Zct",
    "scrolled": true
   },
   "outputs": [
    {
     "data": {
      "text/plain": [
       "0"
      ]
     },
     "execution_count": 13,
     "metadata": {},
     "output_type": "execute_result"
    }
   ],
   "source": [
    "df.duplicated().sum()# checking for duplicates"
   ]
  },
  {
   "cell_type": "markdown",
   "metadata": {
    "id": "QlFBsxAr_Zct"
   },
   "source": [
    "Now get rid of implicit duplicates in the `genre` column. For example, the name of a genre can be written in different ways. Such errors will also affect the result."
   ]
  },
  {
   "cell_type": "markdown",
   "metadata": {
    "id": "eSjWwsOh_Zct"
   },
   "source": [
    "Print a list of unique genre names, sorted in alphabetical order. To do so:\n",
    "* Retrieve the intended DataFrame column \n",
    "* Apply a sorting method to it\n",
    "* For the sorted column, call the method that will return all unique column values"
   ]
  },
  {
   "cell_type": "code",
   "execution_count": 14,
   "metadata": {
    "id": "JIUcqzZN_Zct"
   },
   "outputs": [
    {
     "data": {
      "text/plain": [
       "array(['rock', 'pop', 'folk', 'dance', 'rusrap', 'ruspop', 'world',\n",
       "       'electronic', 'unknown', 'alternative', 'children', 'rnb', 'hip',\n",
       "       'jazz', 'postrock', 'latin', 'classical', 'metal', 'reggae',\n",
       "       'triphop', 'blues', 'instrumental', 'rusrock', 'dnb', 'türk',\n",
       "       'post', 'country', 'psychedelic', 'conjazz', 'indie',\n",
       "       'posthardcore', 'local', 'avantgarde', 'punk', 'videogame',\n",
       "       'techno', 'house', 'christmas', 'melodic', 'caucasian',\n",
       "       'reggaeton', 'soundtrack', 'singer', 'ska', 'salsa', 'ambient',\n",
       "       'film', 'western', 'rap', 'beats', \"hard'n'heavy\", 'progmetal',\n",
       "       'minimal', 'tropical', 'contemporary', 'new', 'soul', 'holiday',\n",
       "       'german', 'jpop', 'spiritual', 'urban', 'gospel', 'nujazz',\n",
       "       'folkmetal', 'trance', 'miscellaneous', 'anime', 'hardcore',\n",
       "       'progressive', 'korean', 'numetal', 'vocal', 'estrada', 'tango',\n",
       "       'loungeelectronic', 'classicmetal', 'dubstep', 'club', 'deep',\n",
       "       'southern', 'black', 'folkrock', 'fitness', 'french', 'disco',\n",
       "       'religious', 'hiphop', 'drum', 'extrememetal', 'türkçe',\n",
       "       'experimental', 'easy', 'metalcore', 'modern', 'argentinetango',\n",
       "       'old', 'swing', 'breaks', 'eurofolk', 'stonerrock', 'industrial',\n",
       "       'funk', 'middle', 'variété', 'other', 'adult', 'christian',\n",
       "       'thrash', 'gothic', 'international', 'muslim', 'relax', 'schlager',\n",
       "       'caribbean', 'nu', 'breakbeat', 'comedy', 'chill', 'newage',\n",
       "       'specialty', 'uzbek', 'k-pop', 'balkan', 'chinese', 'meditative',\n",
       "       'dub', 'power', 'death', 'grime', 'arabesk', 'romance', 'flamenco',\n",
       "       'leftfield', 'european', 'tech', 'newwave', 'dancehall', 'mpb',\n",
       "       'piano', 'top', 'bigroom', 'opera', 'celtic', 'tradjazz',\n",
       "       'acoustic', 'epicmetal', 'hip-hop', 'historisch', 'downbeat',\n",
       "       'downtempo', 'africa', 'audiobook', 'jewish', 'sängerportrait',\n",
       "       'deutschrock', 'eastern', 'action', 'future', 'electropop',\n",
       "       'folklore', 'bollywood', 'marschmusik', 'rnr', 'karaoke', 'indian',\n",
       "       'rancheras', 'afrikaans', 'rhythm', 'sound', 'deutschspr', 'trip',\n",
       "       'lovers', 'choral', 'dancepop', 'retro', 'smooth', 'mexican',\n",
       "       'brazilian', 'ïîï', 'mood', 'surf', 'gangsta', 'inspirational',\n",
       "       'idm', 'ethnic', 'bluegrass', 'broadway', 'animated', 'americana',\n",
       "       'karadeniz', 'rockabilly', 'colombian', 'self', 'hop', 'sertanejo',\n",
       "       'japanese', 'canzone', 'lounge', 'sport', 'ragga', 'traditional',\n",
       "       'gitarre', 'frankreich', 'emo', 'laiko', 'cantopop', 'glitch',\n",
       "       'documentary', 'oceania', 'popeurodance', 'dark', 'vi', 'grunge',\n",
       "       'hardstyle', 'samba', 'garage', 'art', 'folktronica', 'entehno',\n",
       "       'mediterranean', 'chamber', 'cuban', 'taraftar', 'gypsy',\n",
       "       'hardtechno', 'shoegazing', 'bossa', 'latino', 'worldbeat',\n",
       "       'malaysian', 'baile', 'ghazal', 'arabic', 'popelectronic', 'acid',\n",
       "       'kayokyoku', 'neoklassik', 'tribal', 'tanzorchester', 'native',\n",
       "       'independent', 'cantautori', 'handsup', 'punjabi', 'synthpop',\n",
       "       'rave', 'französisch', 'quebecois', 'speech', 'soulful', 'jam',\n",
       "       'ram', 'horror', 'orchestral', 'neue', 'roots', 'slow', 'jungle',\n",
       "       'indipop', 'axé', 'fado', 'showtunes', 'arena', 'irish',\n",
       "       'mandopop', 'forró', 'dirty', 'regional'], dtype=object)"
      ]
     },
     "execution_count": 14,
     "metadata": {},
     "output_type": "execute_result"
    }
   ],
   "source": [
    "df['genre'].unique()\n",
    "# viewing unique genre names"
   ]
  },
  {
   "cell_type": "code",
   "execution_count": 15,
   "metadata": {},
   "outputs": [
    {
     "data": {
      "text/plain": [
       "['acid',\n",
       " 'acoustic',\n",
       " 'action',\n",
       " 'adult',\n",
       " 'africa',\n",
       " 'afrikaans',\n",
       " 'alternative',\n",
       " 'ambient',\n",
       " 'americana',\n",
       " 'animated',\n",
       " 'anime',\n",
       " 'arabesk',\n",
       " 'arabic',\n",
       " 'arena',\n",
       " 'argentinetango',\n",
       " 'art',\n",
       " 'audiobook',\n",
       " 'avantgarde',\n",
       " 'axé',\n",
       " 'baile',\n",
       " 'balkan',\n",
       " 'beats',\n",
       " 'bigroom',\n",
       " 'black',\n",
       " 'bluegrass',\n",
       " 'blues',\n",
       " 'bollywood',\n",
       " 'bossa',\n",
       " 'brazilian',\n",
       " 'breakbeat',\n",
       " 'breaks',\n",
       " 'broadway',\n",
       " 'cantautori',\n",
       " 'cantopop',\n",
       " 'canzone',\n",
       " 'caribbean',\n",
       " 'caucasian',\n",
       " 'celtic',\n",
       " 'chamber',\n",
       " 'children',\n",
       " 'chill',\n",
       " 'chinese',\n",
       " 'choral',\n",
       " 'christian',\n",
       " 'christmas',\n",
       " 'classical',\n",
       " 'classicmetal',\n",
       " 'club',\n",
       " 'colombian',\n",
       " 'comedy',\n",
       " 'conjazz',\n",
       " 'contemporary',\n",
       " 'country',\n",
       " 'cuban',\n",
       " 'dance',\n",
       " 'dancehall',\n",
       " 'dancepop',\n",
       " 'dark',\n",
       " 'death',\n",
       " 'deep',\n",
       " 'deutschrock',\n",
       " 'deutschspr',\n",
       " 'dirty',\n",
       " 'disco',\n",
       " 'dnb',\n",
       " 'documentary',\n",
       " 'downbeat',\n",
       " 'downtempo',\n",
       " 'drum',\n",
       " 'dub',\n",
       " 'dubstep',\n",
       " 'eastern',\n",
       " 'easy',\n",
       " 'electronic',\n",
       " 'electropop',\n",
       " 'emo',\n",
       " 'entehno',\n",
       " 'epicmetal',\n",
       " 'estrada',\n",
       " 'ethnic',\n",
       " 'eurofolk',\n",
       " 'european',\n",
       " 'experimental',\n",
       " 'extrememetal',\n",
       " 'fado',\n",
       " 'film',\n",
       " 'fitness',\n",
       " 'flamenco',\n",
       " 'folk',\n",
       " 'folklore',\n",
       " 'folkmetal',\n",
       " 'folkrock',\n",
       " 'folktronica',\n",
       " 'forró',\n",
       " 'frankreich',\n",
       " 'französisch',\n",
       " 'french',\n",
       " 'funk',\n",
       " 'future',\n",
       " 'gangsta',\n",
       " 'garage',\n",
       " 'german',\n",
       " 'ghazal',\n",
       " 'gitarre',\n",
       " 'glitch',\n",
       " 'gospel',\n",
       " 'gothic',\n",
       " 'grime',\n",
       " 'grunge',\n",
       " 'gypsy',\n",
       " 'handsup',\n",
       " \"hard'n'heavy\",\n",
       " 'hardcore',\n",
       " 'hardstyle',\n",
       " 'hardtechno',\n",
       " 'hip',\n",
       " 'hip-hop',\n",
       " 'hiphop',\n",
       " 'historisch',\n",
       " 'holiday',\n",
       " 'hop',\n",
       " 'horror',\n",
       " 'house',\n",
       " 'idm',\n",
       " 'independent',\n",
       " 'indian',\n",
       " 'indie',\n",
       " 'indipop',\n",
       " 'industrial',\n",
       " 'inspirational',\n",
       " 'instrumental',\n",
       " 'international',\n",
       " 'irish',\n",
       " 'jam',\n",
       " 'japanese',\n",
       " 'jazz',\n",
       " 'jewish',\n",
       " 'jpop',\n",
       " 'jungle',\n",
       " 'k-pop',\n",
       " 'karadeniz',\n",
       " 'karaoke',\n",
       " 'kayokyoku',\n",
       " 'korean',\n",
       " 'laiko',\n",
       " 'latin',\n",
       " 'latino',\n",
       " 'leftfield',\n",
       " 'local',\n",
       " 'lounge',\n",
       " 'loungeelectronic',\n",
       " 'lovers',\n",
       " 'malaysian',\n",
       " 'mandopop',\n",
       " 'marschmusik',\n",
       " 'meditative',\n",
       " 'mediterranean',\n",
       " 'melodic',\n",
       " 'metal',\n",
       " 'metalcore',\n",
       " 'mexican',\n",
       " 'middle',\n",
       " 'minimal',\n",
       " 'miscellaneous',\n",
       " 'modern',\n",
       " 'mood',\n",
       " 'mpb',\n",
       " 'muslim',\n",
       " 'native',\n",
       " 'neoklassik',\n",
       " 'neue',\n",
       " 'new',\n",
       " 'newage',\n",
       " 'newwave',\n",
       " 'nu',\n",
       " 'nujazz',\n",
       " 'numetal',\n",
       " 'oceania',\n",
       " 'old',\n",
       " 'opera',\n",
       " 'orchestral',\n",
       " 'other',\n",
       " 'piano',\n",
       " 'pop',\n",
       " 'popelectronic',\n",
       " 'popeurodance',\n",
       " 'post',\n",
       " 'posthardcore',\n",
       " 'postrock',\n",
       " 'power',\n",
       " 'progmetal',\n",
       " 'progressive',\n",
       " 'psychedelic',\n",
       " 'punjabi',\n",
       " 'punk',\n",
       " 'quebecois',\n",
       " 'ragga',\n",
       " 'ram',\n",
       " 'rancheras',\n",
       " 'rap',\n",
       " 'rave',\n",
       " 'reggae',\n",
       " 'reggaeton',\n",
       " 'regional',\n",
       " 'relax',\n",
       " 'religious',\n",
       " 'retro',\n",
       " 'rhythm',\n",
       " 'rnb',\n",
       " 'rnr',\n",
       " 'rock',\n",
       " 'rockabilly',\n",
       " 'romance',\n",
       " 'roots',\n",
       " 'ruspop',\n",
       " 'rusrap',\n",
       " 'rusrock',\n",
       " 'salsa',\n",
       " 'samba',\n",
       " 'schlager',\n",
       " 'self',\n",
       " 'sertanejo',\n",
       " 'shoegazing',\n",
       " 'showtunes',\n",
       " 'singer',\n",
       " 'ska',\n",
       " 'slow',\n",
       " 'smooth',\n",
       " 'soul',\n",
       " 'soulful',\n",
       " 'sound',\n",
       " 'soundtrack',\n",
       " 'southern',\n",
       " 'specialty',\n",
       " 'speech',\n",
       " 'spiritual',\n",
       " 'sport',\n",
       " 'stonerrock',\n",
       " 'surf',\n",
       " 'swing',\n",
       " 'synthpop',\n",
       " 'sängerportrait',\n",
       " 'tango',\n",
       " 'tanzorchester',\n",
       " 'taraftar',\n",
       " 'tech',\n",
       " 'techno',\n",
       " 'thrash',\n",
       " 'top',\n",
       " 'traditional',\n",
       " 'tradjazz',\n",
       " 'trance',\n",
       " 'tribal',\n",
       " 'trip',\n",
       " 'triphop',\n",
       " 'tropical',\n",
       " 'türk',\n",
       " 'türkçe',\n",
       " 'unknown',\n",
       " 'urban',\n",
       " 'uzbek',\n",
       " 'variété',\n",
       " 'vi',\n",
       " 'videogame',\n",
       " 'vocal',\n",
       " 'western',\n",
       " 'world',\n",
       " 'worldbeat',\n",
       " 'ïîï']"
      ]
     },
     "execution_count": 15,
     "metadata": {},
     "output_type": "execute_result"
    }
   ],
   "source": [
    "sorted(df['genre'].unique())"
   ]
  },
  {
   "cell_type": "markdown",
   "metadata": {
    "id": "qej-Qmuo_Zct"
   },
   "source": [
    "Look through the list to find implicit duplicates of the genre `hiphop`. These could be names written incorrectly or alternative names of the same genre.\n",
    "\n",
    "You will see the following implicit duplicates:\n",
    "* `hip`\n",
    "* `hop`\n",
    "* `hip-hop`\n",
    "\n",
    "To get rid of them, declare the function `replace_wrong_genres()` with two parameters: \n",
    "* `wrong_genres=` — the list of duplicates\n",
    "* `correct_genre=` — the string with the correct value\n",
    "\n",
    "The function should correct the names in the `'genre'` column from the `df` table, i.e. replace each value from the `wrong_genres` list with the value in `correct_genre`."
   ]
  },
  {
   "cell_type": "code",
   "execution_count": 16,
   "metadata": {
    "id": "ErNDkmns_Zct"
   },
   "outputs": [],
   "source": [
    "def replace_wrong_genres(wrong_genres, correct_genre):\n",
    "    for wrong_genre  in wrong_genres:\n",
    "        df['genre'] = df['genre'].replace(wrong_genre, correct_genre)\n",
    "wrong_genres = ['hip', 'hop', 'hip-hop']\n",
    "correct_genre = 'hiphop' \n",
    "replace_wrong_genres(wrong_genres, correct_genre)# function for replacing implicit duplicates"
   ]
  },
  {
   "cell_type": "markdown",
   "metadata": {
    "id": "aDoBJxbA_Zct"
   },
   "source": [
    "Call `replace_wrong_genres()` and pass it arguments so that it clears implicit duplcates (`hip`, `hop`, and `hip-hop`) and replaces them with `hiphop`:"
   ]
  },
  {
   "cell_type": "code",
   "execution_count": 17,
   "metadata": {
    "id": "YN5i2hpmSo09"
   },
   "outputs": [],
   "source": [
    "# removing implicit duplicates"
   ]
  },
  {
   "cell_type": "markdown",
   "metadata": {
    "id": "zQKF16_RG15m"
   },
   "source": [
    "Make sure the duplicate names were removed. Print the list of unique values from the `'genre'` column:"
   ]
  },
  {
   "cell_type": "code",
   "execution_count": 18,
   "metadata": {
    "id": "wvixALnFG15m"
   },
   "outputs": [
    {
     "data": {
      "text/plain": [
       "array(['rock', 'pop', 'folk', 'dance', 'rusrap', 'ruspop', 'world',\n",
       "       'electronic', 'unknown', 'alternative', 'children', 'rnb',\n",
       "       'hiphop', 'jazz', 'postrock', 'latin', 'classical', 'metal',\n",
       "       'reggae', 'triphop', 'blues', 'instrumental', 'rusrock', 'dnb',\n",
       "       'türk', 'post', 'country', 'psychedelic', 'conjazz', 'indie',\n",
       "       'posthardcore', 'local', 'avantgarde', 'punk', 'videogame',\n",
       "       'techno', 'house', 'christmas', 'melodic', 'caucasian',\n",
       "       'reggaeton', 'soundtrack', 'singer', 'ska', 'salsa', 'ambient',\n",
       "       'film', 'western', 'rap', 'beats', \"hard'n'heavy\", 'progmetal',\n",
       "       'minimal', 'tropical', 'contemporary', 'new', 'soul', 'holiday',\n",
       "       'german', 'jpop', 'spiritual', 'urban', 'gospel', 'nujazz',\n",
       "       'folkmetal', 'trance', 'miscellaneous', 'anime', 'hardcore',\n",
       "       'progressive', 'korean', 'numetal', 'vocal', 'estrada', 'tango',\n",
       "       'loungeelectronic', 'classicmetal', 'dubstep', 'club', 'deep',\n",
       "       'southern', 'black', 'folkrock', 'fitness', 'french', 'disco',\n",
       "       'religious', 'drum', 'extrememetal', 'türkçe', 'experimental',\n",
       "       'easy', 'metalcore', 'modern', 'argentinetango', 'old', 'swing',\n",
       "       'breaks', 'eurofolk', 'stonerrock', 'industrial', 'funk', 'middle',\n",
       "       'variété', 'other', 'adult', 'christian', 'thrash', 'gothic',\n",
       "       'international', 'muslim', 'relax', 'schlager', 'caribbean', 'nu',\n",
       "       'breakbeat', 'comedy', 'chill', 'newage', 'specialty', 'uzbek',\n",
       "       'k-pop', 'balkan', 'chinese', 'meditative', 'dub', 'power',\n",
       "       'death', 'grime', 'arabesk', 'romance', 'flamenco', 'leftfield',\n",
       "       'european', 'tech', 'newwave', 'dancehall', 'mpb', 'piano', 'top',\n",
       "       'bigroom', 'opera', 'celtic', 'tradjazz', 'acoustic', 'epicmetal',\n",
       "       'historisch', 'downbeat', 'downtempo', 'africa', 'audiobook',\n",
       "       'jewish', 'sängerportrait', 'deutschrock', 'eastern', 'action',\n",
       "       'future', 'electropop', 'folklore', 'bollywood', 'marschmusik',\n",
       "       'rnr', 'karaoke', 'indian', 'rancheras', 'afrikaans', 'rhythm',\n",
       "       'sound', 'deutschspr', 'trip', 'lovers', 'choral', 'dancepop',\n",
       "       'retro', 'smooth', 'mexican', 'brazilian', 'ïîï', 'mood', 'surf',\n",
       "       'gangsta', 'inspirational', 'idm', 'ethnic', 'bluegrass',\n",
       "       'broadway', 'animated', 'americana', 'karadeniz', 'rockabilly',\n",
       "       'colombian', 'self', 'sertanejo', 'japanese', 'canzone', 'lounge',\n",
       "       'sport', 'ragga', 'traditional', 'gitarre', 'frankreich', 'emo',\n",
       "       'laiko', 'cantopop', 'glitch', 'documentary', 'oceania',\n",
       "       'popeurodance', 'dark', 'vi', 'grunge', 'hardstyle', 'samba',\n",
       "       'garage', 'art', 'folktronica', 'entehno', 'mediterranean',\n",
       "       'chamber', 'cuban', 'taraftar', 'gypsy', 'hardtechno',\n",
       "       'shoegazing', 'bossa', 'latino', 'worldbeat', 'malaysian', 'baile',\n",
       "       'ghazal', 'arabic', 'popelectronic', 'acid', 'kayokyoku',\n",
       "       'neoklassik', 'tribal', 'tanzorchester', 'native', 'independent',\n",
       "       'cantautori', 'handsup', 'punjabi', 'synthpop', 'rave',\n",
       "       'französisch', 'quebecois', 'speech', 'soulful', 'jam', 'ram',\n",
       "       'horror', 'orchestral', 'neue', 'roots', 'slow', 'jungle',\n",
       "       'indipop', 'axé', 'fado', 'showtunes', 'arena', 'irish',\n",
       "       'mandopop', 'forró', 'dirty', 'regional'], dtype=object)"
      ]
     },
     "execution_count": 18,
     "metadata": {},
     "output_type": "execute_result"
    }
   ],
   "source": [
    "df['genre'].unique()# checking for implicit duplicates"
   ]
  },
  {
   "cell_type": "code",
   "execution_count": 19,
   "metadata": {},
   "outputs": [
    {
     "data": {
      "text/plain": [
       "['acid',\n",
       " 'acoustic',\n",
       " 'action',\n",
       " 'adult',\n",
       " 'africa',\n",
       " 'afrikaans',\n",
       " 'alternative',\n",
       " 'ambient',\n",
       " 'americana',\n",
       " 'animated',\n",
       " 'anime',\n",
       " 'arabesk',\n",
       " 'arabic',\n",
       " 'arena',\n",
       " 'argentinetango',\n",
       " 'art',\n",
       " 'audiobook',\n",
       " 'avantgarde',\n",
       " 'axé',\n",
       " 'baile',\n",
       " 'balkan',\n",
       " 'beats',\n",
       " 'bigroom',\n",
       " 'black',\n",
       " 'bluegrass',\n",
       " 'blues',\n",
       " 'bollywood',\n",
       " 'bossa',\n",
       " 'brazilian',\n",
       " 'breakbeat',\n",
       " 'breaks',\n",
       " 'broadway',\n",
       " 'cantautori',\n",
       " 'cantopop',\n",
       " 'canzone',\n",
       " 'caribbean',\n",
       " 'caucasian',\n",
       " 'celtic',\n",
       " 'chamber',\n",
       " 'children',\n",
       " 'chill',\n",
       " 'chinese',\n",
       " 'choral',\n",
       " 'christian',\n",
       " 'christmas',\n",
       " 'classical',\n",
       " 'classicmetal',\n",
       " 'club',\n",
       " 'colombian',\n",
       " 'comedy',\n",
       " 'conjazz',\n",
       " 'contemporary',\n",
       " 'country',\n",
       " 'cuban',\n",
       " 'dance',\n",
       " 'dancehall',\n",
       " 'dancepop',\n",
       " 'dark',\n",
       " 'death',\n",
       " 'deep',\n",
       " 'deutschrock',\n",
       " 'deutschspr',\n",
       " 'dirty',\n",
       " 'disco',\n",
       " 'dnb',\n",
       " 'documentary',\n",
       " 'downbeat',\n",
       " 'downtempo',\n",
       " 'drum',\n",
       " 'dub',\n",
       " 'dubstep',\n",
       " 'eastern',\n",
       " 'easy',\n",
       " 'electronic',\n",
       " 'electropop',\n",
       " 'emo',\n",
       " 'entehno',\n",
       " 'epicmetal',\n",
       " 'estrada',\n",
       " 'ethnic',\n",
       " 'eurofolk',\n",
       " 'european',\n",
       " 'experimental',\n",
       " 'extrememetal',\n",
       " 'fado',\n",
       " 'film',\n",
       " 'fitness',\n",
       " 'flamenco',\n",
       " 'folk',\n",
       " 'folklore',\n",
       " 'folkmetal',\n",
       " 'folkrock',\n",
       " 'folktronica',\n",
       " 'forró',\n",
       " 'frankreich',\n",
       " 'französisch',\n",
       " 'french',\n",
       " 'funk',\n",
       " 'future',\n",
       " 'gangsta',\n",
       " 'garage',\n",
       " 'german',\n",
       " 'ghazal',\n",
       " 'gitarre',\n",
       " 'glitch',\n",
       " 'gospel',\n",
       " 'gothic',\n",
       " 'grime',\n",
       " 'grunge',\n",
       " 'gypsy',\n",
       " 'handsup',\n",
       " \"hard'n'heavy\",\n",
       " 'hardcore',\n",
       " 'hardstyle',\n",
       " 'hardtechno',\n",
       " 'hiphop',\n",
       " 'historisch',\n",
       " 'holiday',\n",
       " 'horror',\n",
       " 'house',\n",
       " 'idm',\n",
       " 'independent',\n",
       " 'indian',\n",
       " 'indie',\n",
       " 'indipop',\n",
       " 'industrial',\n",
       " 'inspirational',\n",
       " 'instrumental',\n",
       " 'international',\n",
       " 'irish',\n",
       " 'jam',\n",
       " 'japanese',\n",
       " 'jazz',\n",
       " 'jewish',\n",
       " 'jpop',\n",
       " 'jungle',\n",
       " 'k-pop',\n",
       " 'karadeniz',\n",
       " 'karaoke',\n",
       " 'kayokyoku',\n",
       " 'korean',\n",
       " 'laiko',\n",
       " 'latin',\n",
       " 'latino',\n",
       " 'leftfield',\n",
       " 'local',\n",
       " 'lounge',\n",
       " 'loungeelectronic',\n",
       " 'lovers',\n",
       " 'malaysian',\n",
       " 'mandopop',\n",
       " 'marschmusik',\n",
       " 'meditative',\n",
       " 'mediterranean',\n",
       " 'melodic',\n",
       " 'metal',\n",
       " 'metalcore',\n",
       " 'mexican',\n",
       " 'middle',\n",
       " 'minimal',\n",
       " 'miscellaneous',\n",
       " 'modern',\n",
       " 'mood',\n",
       " 'mpb',\n",
       " 'muslim',\n",
       " 'native',\n",
       " 'neoklassik',\n",
       " 'neue',\n",
       " 'new',\n",
       " 'newage',\n",
       " 'newwave',\n",
       " 'nu',\n",
       " 'nujazz',\n",
       " 'numetal',\n",
       " 'oceania',\n",
       " 'old',\n",
       " 'opera',\n",
       " 'orchestral',\n",
       " 'other',\n",
       " 'piano',\n",
       " 'pop',\n",
       " 'popelectronic',\n",
       " 'popeurodance',\n",
       " 'post',\n",
       " 'posthardcore',\n",
       " 'postrock',\n",
       " 'power',\n",
       " 'progmetal',\n",
       " 'progressive',\n",
       " 'psychedelic',\n",
       " 'punjabi',\n",
       " 'punk',\n",
       " 'quebecois',\n",
       " 'ragga',\n",
       " 'ram',\n",
       " 'rancheras',\n",
       " 'rap',\n",
       " 'rave',\n",
       " 'reggae',\n",
       " 'reggaeton',\n",
       " 'regional',\n",
       " 'relax',\n",
       " 'religious',\n",
       " 'retro',\n",
       " 'rhythm',\n",
       " 'rnb',\n",
       " 'rnr',\n",
       " 'rock',\n",
       " 'rockabilly',\n",
       " 'romance',\n",
       " 'roots',\n",
       " 'ruspop',\n",
       " 'rusrap',\n",
       " 'rusrock',\n",
       " 'salsa',\n",
       " 'samba',\n",
       " 'schlager',\n",
       " 'self',\n",
       " 'sertanejo',\n",
       " 'shoegazing',\n",
       " 'showtunes',\n",
       " 'singer',\n",
       " 'ska',\n",
       " 'slow',\n",
       " 'smooth',\n",
       " 'soul',\n",
       " 'soulful',\n",
       " 'sound',\n",
       " 'soundtrack',\n",
       " 'southern',\n",
       " 'specialty',\n",
       " 'speech',\n",
       " 'spiritual',\n",
       " 'sport',\n",
       " 'stonerrock',\n",
       " 'surf',\n",
       " 'swing',\n",
       " 'synthpop',\n",
       " 'sängerportrait',\n",
       " 'tango',\n",
       " 'tanzorchester',\n",
       " 'taraftar',\n",
       " 'tech',\n",
       " 'techno',\n",
       " 'thrash',\n",
       " 'top',\n",
       " 'traditional',\n",
       " 'tradjazz',\n",
       " 'trance',\n",
       " 'tribal',\n",
       " 'trip',\n",
       " 'triphop',\n",
       " 'tropical',\n",
       " 'türk',\n",
       " 'türkçe',\n",
       " 'unknown',\n",
       " 'urban',\n",
       " 'uzbek',\n",
       " 'variété',\n",
       " 'vi',\n",
       " 'videogame',\n",
       " 'vocal',\n",
       " 'western',\n",
       " 'world',\n",
       " 'worldbeat',\n",
       " 'ïîï']"
      ]
     },
     "execution_count": 19,
     "metadata": {},
     "output_type": "execute_result"
    }
   ],
   "source": [
    "sorted(df['genre'].unique())"
   ]
  },
  {
   "cell_type": "markdown",
   "metadata": {
    "id": "ALgNbvF3VtPA"
   },
   "source": [
    "[Back to Contents](#back)"
   ]
  },
  {
   "cell_type": "markdown",
   "metadata": {
    "id": "jz6a9-7HQUDd"
   },
   "source": [
    "### Conclusions <a id='data_preprocessing_conclusions'></a>\n",
    "We detected three issues with the data:\n",
    "\n",
    "- Incorrect header styles\n",
    "- Missing values\n",
    "- Obvious and implicit duplicates\n",
    "\n",
    "The headers have been cleaned up to make processing the table simpler.\n",
    "\n",
    "All missing values have been replaced with `'unknown'`. But we still have to see whether the missing values in `'genre'` will affect our calculations.\n",
    "\n",
    "The absence of duplicates will make the results more precise and easier to understand.\n",
    "\n",
    "Now we can move on to testing hypotheses. "
   ]
  },
  {
   "cell_type": "markdown",
   "metadata": {
    "id": "eK1es74rVujj"
   },
   "source": [
    "[Back to Contents](#back)"
   ]
  },
  {
   "cell_type": "markdown",
   "metadata": {
    "id": "WttZHXH0SqKk"
   },
   "source": [
    "## Stage 3. Testing hypotheses <a id='hypotheses'></a>"
   ]
  },
  {
   "cell_type": "markdown",
   "metadata": {
    "id": "Im936VVi_Zcu"
   },
   "source": [
    "### Hypothesis 1: comparing user behavior in two cities <a id='activity'></a>"
   ]
  },
  {
   "cell_type": "markdown",
   "metadata": {
    "id": "nwt_MuaL_Zcu"
   },
   "source": [
    "According to the first hypothesis, users from Springfield and Shelbyville listen to music differently. Test this using the data on three days of the week: Monday, Wednesday, and Friday.\n",
    "\n",
    "* Divide the users into groups by city.\n",
    "* Compare how many tracks each group played on Monday, Wednesday, and Friday.\n"
   ]
  },
  {
   "cell_type": "markdown",
   "metadata": {
    "id": "8Dw_YMmT_Zcu"
   },
   "source": [
    "For the sake of practice, perform each computation separately. \n",
    "\n",
    "Evaluate user activity in each city. Group the data by city and find the number of songs played in each group.\n",
    "\n"
   ]
  },
  {
   "cell_type": "code",
   "execution_count": 20,
   "metadata": {
    "id": "0_Qs96oh_Zcu"
   },
   "outputs": [
    {
     "data": {
      "text/plain": [
       "city\n",
       "Shelbyville    18512\n",
       "Springfield    42741\n",
       "Name: track, dtype: int64"
      ]
     },
     "execution_count": 20,
     "metadata": {},
     "output_type": "execute_result"
    }
   ],
   "source": [
    "df.groupby(['city'])['track'].count()# Counting up the tracks played in each city"
   ]
  },
  {
   "cell_type": "markdown",
   "metadata": {
    "id": "dzli3w8o_Zcu"
   },
   "source": [
    "Springfield has more tracks played than Shelbyville. But that does not imply that citizens of Springfield listen to music more often. This city is simply bigger, and there are more users.\n",
    "\n",
    "Now group the data by day of the week and find the number of tracks played on Monday, Wednesday, and Friday.\n"
   ]
  },
  {
   "cell_type": "code",
   "execution_count": 21,
   "metadata": {
    "id": "uZMKjiJz_Zcu"
   },
   "outputs": [
    {
     "data": {
      "text/plain": [
       "day\n",
       "Friday       21840\n",
       "Monday       21354\n",
       "Wednesday    18059\n",
       "Name: track, dtype: int64"
      ]
     },
     "execution_count": 21,
     "metadata": {},
     "output_type": "execute_result"
    }
   ],
   "source": [
    "df.groupby(['day'])['track'].count()# Calculating tracks played on each of the three days"
   ]
  },
  {
   "cell_type": "markdown",
   "metadata": {
    "id": "cC2tNrlL_Zcu"
   },
   "source": [
    "Wednesday is the quietest day overall. But if we consider the two cities separately, we might come to a different conclusion."
   ]
  },
  {
   "cell_type": "markdown",
   "metadata": {
    "id": "POzs8bGa_Zcu"
   },
   "source": [
    "You have seen how grouping by city or day works. Now write a function that will group by both.\n",
    "\n",
    "Create the `number_tracks()` function to calculate the number of songs played for a given day and city. It will require two parameters:\n",
    "* day of the week\n",
    "* name of the city\n",
    "\n",
    "In the function, use a variable to store the rows from the original table, where:\n",
    "  * `'day'` column value is equal to the `day` parameter\n",
    "  * `'city'` column value is equal to the `city` parameter\n",
    "\n",
    "Apply consecutive filtering with logical indexing.\n",
    "\n",
    "Then calculate the `'user_id'` column values in the resulting table. Store the result to a new variable. Return this variable from the function."
   ]
  },
  {
   "cell_type": "code",
   "execution_count": 22,
   "metadata": {
    "id": "Nz3GdQB1_Zcu"
   },
   "outputs": [
    {
     "name": "stdout",
     "output_type": "stream",
     "text": [
      "\n"
     ]
    }
   ],
   "source": [
    "def number_tracks(day, city): # <creating the function number_tracks()>\n",
    "    track_list = df[(df['day'] == day) & (df['city'] == city)]# We'll declare a function with two parameters: day=, city=.\n",
    "    track_list_count = track_list['user_id'].count()\n",
    "    return track_list_count \n",
    "print()# Let the track_list variable store the df rows where\n",
    "# the value in the 'day' column is equal to the day= parameter and, at the same time, \n",
    "# the value in the 'city' column is equal to the city= parameter (apply consecutive filtering \n",
    "# with logical indexing).\n",
    "# Let the track_list_count variable store the number of 'user_id' column values in track_list\n",
    "# (found with the count() method).\n",
    "# Let the function return a number: the value of track_list_count.\n",
    "\n",
    "# The function counts tracked played for a certain city and day.\n",
    "# It first retrieves the rows with the intended day from the table,\n",
    "# then filters out the rows with the intended city from the result,\n",
    "# then finds the number of 'user_id' values in the filtered table,\n",
    "# then returns that number.\n",
    "# To see what it returns, wrap the function call in print()."
   ]
  },
  {
   "cell_type": "markdown",
   "metadata": {
    "id": "ytf7xFrFJQ2r"
   },
   "source": [
    "Call `number_tracks()` six times, changing the parameter values, so that you retrieve the data on both cities for each of the three days."
   ]
  },
  {
   "cell_type": "code",
   "execution_count": 23,
   "metadata": {
    "id": "rJcRATNQ_Zcu"
   },
   "outputs": [
    {
     "name": "stdout",
     "output_type": "stream",
     "text": [
      "15740\n"
     ]
    }
   ],
   "source": [
    "print(number_tracks('Monday','Springfield')) # the number of songs played in Springfield on Monday"
   ]
  },
  {
   "cell_type": "code",
   "execution_count": 24,
   "metadata": {
    "id": "hq_ncZ5T_Zcu"
   },
   "outputs": [
    {
     "name": "stdout",
     "output_type": "stream",
     "text": [
      "5614\n"
     ]
    }
   ],
   "source": [
    "print(number_tracks('Monday','Shelbyville'))# the number of songs played in Shelbyville on Monday"
   ]
  },
  {
   "cell_type": "code",
   "execution_count": 25,
   "metadata": {
    "id": "_NTy2VPU_Zcu"
   },
   "outputs": [
    {
     "name": "stdout",
     "output_type": "stream",
     "text": [
      "11056\n"
     ]
    }
   ],
   "source": [
    "print(number_tracks('Wednesday','Springfield'))# the number of songs played in Springfield on Wednesday"
   ]
  },
  {
   "cell_type": "code",
   "execution_count": 26,
   "metadata": {
    "id": "j2y3TAwo_Zcu"
   },
   "outputs": [
    {
     "name": "stdout",
     "output_type": "stream",
     "text": [
      "7003\n"
     ]
    }
   ],
   "source": [
    "print(number_tracks('Wednesday','Shelbyville'))# the number of songs played in Shelbyville on Wednesday"
   ]
  },
  {
   "cell_type": "code",
   "execution_count": 27,
   "metadata": {
    "id": "vYDw5u_K_Zcu"
   },
   "outputs": [
    {
     "name": "stdout",
     "output_type": "stream",
     "text": [
      "15945\n"
     ]
    }
   ],
   "source": [
    "print(number_tracks('Friday','Springfield'))  # the number of songs played in Springfield on Friday"
   ]
  },
  {
   "cell_type": "code",
   "execution_count": 28,
   "metadata": {
    "id": "8_yzFtW3_Zcu"
   },
   "outputs": [
    {
     "name": "stdout",
     "output_type": "stream",
     "text": [
      "5614\n"
     ]
    }
   ],
   "source": [
    "print(number_tracks('Monday','Shelbyville'))# the number of songs played in Shelbyville on Friday"
   ]
  },
  {
   "cell_type": "markdown",
   "metadata": {
    "id": "7QXffbO-_Zcu"
   },
   "source": [
    "Use `pd.DataFrame` to create a table, where\n",
    "* Column names are: `['city', 'monday', 'wednesday', 'friday']`\n",
    "* The data is the results you got from `number_tracks()`"
   ]
  },
  {
   "cell_type": "code",
   "execution_count": 29,
   "metadata": {
    "id": "APAcLpOr_Zcu"
   },
   "outputs": [
    {
     "name": "stdout",
     "output_type": "stream",
     "text": [
      "          city  monday  wednesday  friday\n",
      "0  Springfield   15740      11056   15945\n",
      "1  Shelbyville    5614       7003    5895\n"
     ]
    }
   ],
   "source": [
    "table = pd.DataFrame({\n",
    "    'city': ['Springfield', 'Shelbyville'],\n",
    "    'monday': [number_tracks('Monday', 'Springfield'), number_tracks('Monday', 'Shelbyville')],\n",
    "    'wednesday': [number_tracks('Wednesday', 'Springfield'), number_tracks('Wednesday', 'Shelbyville')],\n",
    "    'friday': [number_tracks('Friday', 'Springfield'), number_tracks('Friday', 'Shelbyville')]\n",
    "})\n",
    "print(table)# table with results"
   ]
  },
  {
   "cell_type": "markdown",
   "metadata": {
    "id": "-EgPIHYu_Zcu"
   },
   "source": [
    "**Conclusions**\n",
    "\n",
    "The data reveals differences in user behavior:\n",
    "\n",
    "- In Springfield, the number of songs played peaks on Mondays and Fridays, while on Wednesday there is a decrease in activity.\n",
    "- In Shelbyville, on the contrary, users listen to music more on Wednesday. User activity on Monday and Friday is smaller.\n",
    "\n",
    "So the first hypothesis seems to be correct."
   ]
  },
  {
   "cell_type": "markdown",
   "metadata": {
    "id": "p7nFQajCVw5B"
   },
   "source": [
    "[Back to Contents](#back)"
   ]
  },
  {
   "cell_type": "markdown",
   "metadata": {
    "id": "atZAxtq4_Zcu"
   },
   "source": [
    "### Hypothesis 2: music at the beginning and end of the week <a id='week'></a>"
   ]
  },
  {
   "cell_type": "markdown",
   "metadata": {
    "id": "eXrQqXFH_Zcu"
   },
   "source": [
    "According to the second hypothesis, on Monday morning and Friday night, citizens of Springfield listen to genres that differ from ones users from Shelbyville enjoy."
   ]
  },
  {
   "cell_type": "markdown",
   "metadata": {
    "id": "S8UcW6Hw_Zcu"
   },
   "source": [
    "Get tables (make sure that the name of your combined table matches the DataFrame given in the two code blocks below):\n",
    "* For Springfield — `spr_general`\n",
    "* For Shelbyville — `shel_general`"
   ]
  },
  {
   "cell_type": "code",
   "execution_count": 30,
   "metadata": {
    "id": "qeaFfM_P_Zcu",
    "pycharm": {
     "is_executing": true
    }
   },
   "outputs": [],
   "source": [
    "spr_general = df[df['city'] == 'Springfield']\n",
    "# create the spr_general table from the df rows, \n",
    "# where the value in the 'city' column is 'Springfield'\n",
    "\n"
   ]
  },
  {
   "cell_type": "code",
   "execution_count": 31,
   "metadata": {
    "id": "ORaVRKto_Zcu"
   },
   "outputs": [],
   "source": [
    "shel_general = df[df['city'] == 'Shelbyville']\n",
    "# create the shel_general from the df rows,\n",
    "# where the value in the 'city' column is 'Shelbyville'\n"
   ]
  },
  {
   "cell_type": "markdown",
   "metadata": {
    "id": "MEJV-CX2_Zcu"
   },
   "source": [
    "Write the `genre_weekday()` function with four parameters:\n",
    "* A table for data (`df`)\n",
    "* The day of the week (`day`)\n",
    "* The first timestamp, in 'hh:mm' format (`time1`)\n",
    "* The last timestamp, in 'hh:mm' format (`time2`)\n",
    "\n",
    "The function should return info on the 15 most popular genres on a given day within the period between the two timestamps."
   ]
  },
  {
   "cell_type": "code",
   "execution_count": 32,
   "metadata": {
    "id": "laJT9BYl_Zcu"
   },
   "outputs": [],
   "source": [
    "def genre_weekday(df, day, time1, time2):\n",
    "    \n",
    "    # 1) Let the genre_df variable store the rows that meet several conditions:\n",
    "#    - the value in the 'day' column is equal to the value of the day= argument\n",
    "#    - the value in the 'time' column is greater than the value of the time1= argument\n",
    "#    - the value in the 'time' column is smaller than the value of the time2= argument\n",
    "#    Use consecutive filtering with logical indexing.\n",
    "\n",
    "# 2) Group genre_df by the 'genre' column, take one of its columns, \n",
    "#    and use the count() method to find the number of entries for each of \n",
    "#    the represented genres; store the resulting Series to the\n",
    "#    genre_df_count variable\n",
    "\n",
    "# 3) Sort genre_df_count in descending order of frequency and store the result\n",
    "#    to the genre_df_sorted variable\n",
    "\n",
    "# 4) Return a Series object with the first 15 genre_df_sorted value - the 15 most\n",
    "#    popular genres (on a given day, within a certain timeframe)\n",
    "\n",
    "# Write your function here\n",
    "\n",
    "    # consecutive filtering\n",
    "    # Create the variable genre_df which will store only those df rows where the day is equal to day=\n",
    "    genre_df = df[(df['day'] == 'day')]\n",
    "    # write your code here\n",
    "\n",
    "    # filter again so that genre_df will store only those rows where the time is smaller than time2=\n",
    "    genre_df = df[(df['time'] <= time2)]# write your code here\n",
    "\n",
    "    # filter once more so that genre_df will store only rows where the time is greater than time1=\n",
    "    genre_df = df[(df['time'] >= time1)] # write your code here\n",
    "\n",
    "    # group the filtered DataFrame by the column with the names of genres, take the genre column, and find the number of rows for each genre with the count() method\n",
    "    genre_df_count = genre_df.groupby('genre')['genre'].count()# write your code here\n",
    "\n",
    "    # sort the result in descending order (so that the most popular genres come first in the Series object)\n",
    "    genre_df_sorted = genre_df_count.sort_values(ascending=False)# write your code here\n",
    "\n",
    "    # we will return the Series object storing the 15 most popular genres on a given day in a given timeframe\n",
    "    return genre_df_sorted[:15]"
   ]
  },
  {
   "cell_type": "markdown",
   "metadata": {
    "id": "la2s2_PF_Zcu"
   },
   "source": [
    "Compare the results of the `genre_weekday()` function for Springfield and Shelbyville on Monday morning (from 7AM to 11AM) and on Friday evening (from 17:00 to 23:00):"
   ]
  },
  {
   "cell_type": "code",
   "execution_count": 33,
   "metadata": {
    "id": "yz7itPUQ_Zcu"
   },
   "outputs": [
    {
     "name": "stdout",
     "output_type": "stream",
     "text": [
      "genre\n",
      "pop            5892\n",
      "dance          4435\n",
      "rock           3965\n",
      "electronic     3786\n",
      "hiphop         2096\n",
      "classical      1616\n",
      "world          1432\n",
      "alternative    1379\n",
      "ruspop         1372\n",
      "rusrap         1161\n",
      "jazz            980\n",
      "unknown         849\n",
      "metal           832\n",
      "soundtrack      785\n",
      "folk            692\n",
      "Name: genre, dtype: int64\n"
     ]
    }
   ],
   "source": [
    "monday_morning_springfield = genre_weekday(spr_general, 'Monday', '07:00', '11:00')\n",
    "print(monday_morning_springfield)\n",
    "# calling the function for Monday morning in Springfield (use spr_general instead of the df table)\n"
   ]
  },
  {
   "cell_type": "code",
   "execution_count": 34,
   "metadata": {
    "id": "kwUcHPdy_Zcu"
   },
   "outputs": [
    {
     "name": "stdout",
     "output_type": "stream",
     "text": [
      "genre\n",
      "pop            2431\n",
      "dance          1932\n",
      "rock           1879\n",
      "electronic     1736\n",
      "hiphop          960\n",
      "alternative     649\n",
      "classical       646\n",
      "rusrap          564\n",
      "ruspop          538\n",
      "world           515\n",
      "jazz            486\n",
      "metal           378\n",
      "soundtrack      331\n",
      "rnb             321\n",
      "rap             309\n",
      "Name: genre, dtype: int64\n"
     ]
    }
   ],
   "source": [
    "monday_morning_shelbyville = genre_weekday(shel_general, 'Monday', '07:00', '11:00')\n",
    "print(monday_morning_shelbyville)# calling the function for Monday morning in Shelbyville (use shel_general instead of the df table)\n"
   ]
  },
  {
   "cell_type": "code",
   "execution_count": 35,
   "metadata": {
    "id": "EzXVRE1o_Zcu"
   },
   "outputs": [
    {
     "name": "stdout",
     "output_type": "stream",
     "text": [
      "genre\n",
      "pop            1983\n",
      "dance          1430\n",
      "rock           1386\n",
      "electronic     1284\n",
      "hiphop          685\n",
      "world           501\n",
      "classical       487\n",
      "alternative     475\n",
      "ruspop          435\n",
      "rusrap          382\n",
      "jazz            332\n",
      "soundtrack      284\n",
      "unknown         255\n",
      "folk            237\n",
      "metal           233\n",
      "Name: genre, dtype: int64\n"
     ]
    }
   ],
   "source": [
    "friday_evening_springfield = genre_weekday(spr_general, 'Friday', '17:00', '23:00')\n",
    "print(friday_evening_springfield)# calling the function for Friday evening in Springfield\n"
   ]
  },
  {
   "cell_type": "code",
   "execution_count": 36,
   "metadata": {
    "id": "JZaEKu5v_Zcu"
   },
   "outputs": [
    {
     "name": "stdout",
     "output_type": "stream",
     "text": [
      "genre\n",
      "pop            839\n",
      "rock           667\n",
      "electronic     649\n",
      "dance          626\n",
      "hiphop         332\n",
      "alternative    234\n",
      "classical      219\n",
      "rusrap         184\n",
      "jazz           179\n",
      "world          179\n",
      "ruspop         170\n",
      "metal          135\n",
      "soundtrack     123\n",
      "unknown        120\n",
      "folk           104\n",
      "Name: genre, dtype: int64\n"
     ]
    }
   ],
   "source": [
    "friday_evening_shelbyville = genre_weekday(shel_general, 'Friday', '17:00', '23:00')\n",
    "print(friday_evening_shelbyville)# calling the function for Friday evening in Shelbyville\n"
   ]
  },
  {
   "cell_type": "markdown",
   "metadata": {
    "id": "wrCe4MNX_Zcu"
   },
   "source": [
    "**Conclusion**\n",
    "\n",
    "Having compared the top 15 genres on Monday morning, we can draw the following conclusions:\n",
    "\n",
    "1. Users from Springfield and Shelbyville listen to similar music. The top five genres are the same, only rock, dance and electronic have switched places.\n",
    "\n",
    "2. In Springfield, the number of missing values turned out to be so big that the value `'unknown'` came in 12th. This means that missing values make up a considerable portion of the data, which may be a basis for questioning the reliability of our conclusions.\n",
    "\n",
    "For Friday evening, the situation is similar. Individual genres vary somewhat, but on the whole, the top 15 is similar for the two cities.\n",
    "\n",
    "Thus, the second hypothesis has been partially proven true:\n",
    "* Users listen to similar music at the beginning and end of the week.\n",
    "* There is no major difference between Springfield and Shelbyville. In both cities, pop is the most popular genre.\n",
    "\n",
    "However, the number of missing values makes this result questionable. In Springfield, there are so many that they affect our top 15. Were we not missing these values, things might look different."
   ]
  },
  {
   "cell_type": "markdown",
   "metadata": {
    "id": "jLmXgdanVyhP"
   },
   "source": [
    "[Back to Contents](#back)"
   ]
  },
  {
   "cell_type": "markdown",
   "metadata": {
    "id": "JolODAqr_Zcu"
   },
   "source": [
    "### Hypothesis 3: genre preferences in Springfield and Shelbyville <a id='genre'></a>\n",
    "\n",
    "Hypothesis: Shelbyville loves rap music. Springfield's citizens are more into pop."
   ]
  },
  {
   "cell_type": "markdown",
   "metadata": {
    "id": "DlegSvaT_Zcu"
   },
   "source": [
    "Group the `spr_general` table by genre and find the number of songs played for each genre with the `count()` method. Then sort the result in descending order and store it to `spr_genres`."
   ]
  },
  {
   "cell_type": "code",
   "execution_count": 37,
   "metadata": {
    "id": "r19lIPke_Zcu"
   },
   "outputs": [],
   "source": [
    "spr_genres=spr_general.groupby('genre')['track'].count()\n",
    "spr_genres=spr_genres.sort_values(ascending=False)# on one line: group the spr_general table by the 'genre' column, \n",
    "# count the 'genre' values with count() in the grouping, \n",
    "# sort the resulting Series in descending order, and store it to spr_genres"
   ]
  },
  {
   "cell_type": "markdown",
   "metadata": {
    "id": "6kMuomxTiIr8"
   },
   "source": [
    "Print the first 10 rows from `spr_genres`:"
   ]
  },
  {
   "cell_type": "code",
   "execution_count": 38,
   "metadata": {
    "id": "WhCSooF8_Zcv"
   },
   "outputs": [
    {
     "name": "stdout",
     "output_type": "stream",
     "text": [
      "genre\n",
      "pop            5892\n",
      "dance          4435\n",
      "rock           3965\n",
      "electronic     3786\n",
      "hiphop         2096\n",
      "classical      1616\n",
      "world          1432\n",
      "alternative    1379\n",
      "ruspop         1372\n",
      "rusrap         1161\n",
      "Name: track, dtype: int64\n"
     ]
    }
   ],
   "source": [
    "print(spr_genres.head(10))# printing the first 10 rows of spr_genres"
   ]
  },
  {
   "cell_type": "markdown",
   "metadata": {
    "id": "cnPG2vnN_Zcv"
   },
   "source": [
    "Now do the same with the data on Shelbyville.\n",
    "\n",
    "Group the `shel_general` table by genre and find the number of songs played for each genre. Then sort the result in descending order and store it to the `shel_genres` table:\n"
   ]
  },
  {
   "cell_type": "code",
   "execution_count": 39,
   "metadata": {
    "id": "gluLIpE7_Zcv"
   },
   "outputs": [],
   "source": [
    "shel_genres=shel_general.groupby('genre')['track'].count()\n",
    "shel_genres=shel_genres.sort_values(ascending=False)# on one line: group the shel_general table by the 'genre' column, \n",
    "# count the 'genre' values in the grouping with count(), \n",
    "# sort the resulting Series in descending order and store it to shel_genres"
   ]
  },
  {
   "cell_type": "markdown",
   "metadata": {
    "id": "5Doha_ODgyQ8"
   },
   "source": [
    "Print the first 10 rows of `shel_genres`:"
   ]
  },
  {
   "cell_type": "code",
   "execution_count": 40,
   "metadata": {
    "id": "uaGJHjVU_Zcv"
   },
   "outputs": [
    {
     "name": "stdout",
     "output_type": "stream",
     "text": [
      "genre\n",
      "pop            2431\n",
      "dance          1932\n",
      "rock           1879\n",
      "electronic     1736\n",
      "hiphop          960\n",
      "alternative     649\n",
      "classical       646\n",
      "rusrap          564\n",
      "ruspop          538\n",
      "world           515\n",
      "Name: track, dtype: int64\n"
     ]
    }
   ],
   "source": [
    "print(shel_genres.head(10))# printing the first 10 rows from shel_genres"
   ]
  },
  {
   "cell_type": "markdown",
   "metadata": {
    "id": "RY51YJYu_Zcv"
   },
   "source": [
    "**Conclusion**"
   ]
  },
  {
   "cell_type": "markdown",
   "metadata": {
    "id": "nVhnJEm__Zcv"
   },
   "source": [
    "The hypothesis has been partially proven true:\n",
    "* Pop music is the most popular genre in Springfield, as expected.\n",
    "* However, pop music turned out to be equally popular in Springfield and Shelbyville, and rap wasn't in the top 5 for either city.\n"
   ]
  },
  {
   "cell_type": "markdown",
   "metadata": {
    "id": "Byr0RfpPVz14"
   },
   "source": [
    "[Back to Contents](#back)"
   ]
  },
  {
   "cell_type": "markdown",
   "metadata": {
    "id": "ykKQ0N65_Zcv"
   },
   "source": [
    "# Findings <a id='end'></a>"
   ]
  },
  {
   "cell_type": "markdown",
   "metadata": {
    "id": "tjUwbHb3_Zcv"
   },
   "source": [
    "We have tested the following three hypotheses:\n",
    "\n",
    "1. User activity differs depending on the day of the week and from city to city. \n",
    "2. On Monday mornings, Springfield and Shelbyville residents listen to different genres. This is also true for Friday evenings. \n",
    "3. Springfield and Shelbyville listeners have different preferences. In Springfield, they prefer pop, while Shelbyville has more rap fans.\n",
    "\n",
    "After analyzing the data, we concluded:\n",
    "\n",
    "1. User activity in Springfield and Shelbyville depends on the day of the week, though the cities vary in different ways. \n",
    "\n",
    "The first hypothesis is fully accepted.\n",
    "\n",
    "2. Musical preferences do not vary significantly over the course of the week in both Springfield and Shelbyville. We can see small differences in order on Mondays, but:\n",
    "* In Springfield and Shelbyville, people listen to pop music most.\n",
    "\n",
    "So we can't accept this hypothesis. We must also keep in mind that the result could have been different if not for the missing values.\n",
    "\n",
    "3. It turns out that the musical preferences of users from Springfield and Shelbyville are quite similar.\n",
    "\n",
    "The third hypothesis is rejected. If there is any difference in preferences, it cannot be seen from this data.\n",
    "\n",
    "### Note \n",
    "In real projects, research involves statistical hypothesis testing, which is more precise and more quantitative. Also note that you cannot always draw conclusions about an entire city based on the data from just one source.\n",
    "\n",
    "You will study hypothesis testing in the sprint on statistical data analysis."
   ]
  },
  {
   "cell_type": "markdown",
   "metadata": {
    "id": "Ju4AHDSgV1FE"
   },
   "source": [
    "[Back to Contents](#back)"
   ]
  }
 ],
 "metadata": {
  "ExecuteTimeLog": [
   {
    "duration": 279,
    "start_time": "2024-09-05T09:31:10.955Z"
   },
   {
    "duration": 120,
    "start_time": "2024-09-05T09:33:45.612Z"
   },
   {
    "duration": 6,
    "start_time": "2024-09-05T09:36:35.592Z"
   },
   {
    "duration": 6,
    "start_time": "2024-09-05T09:36:44.831Z"
   },
   {
    "duration": 103,
    "start_time": "2024-09-05T09:42:23.629Z"
   },
   {
    "duration": 5,
    "start_time": "2024-09-05T09:42:52.557Z"
   },
   {
    "duration": 9,
    "start_time": "2024-09-05T09:47:37.025Z"
   },
   {
    "duration": 22,
    "start_time": "2024-09-05T09:54:17.939Z"
   },
   {
    "duration": 4,
    "start_time": "2024-09-05T09:59:20.888Z"
   },
   {
    "duration": 7,
    "start_time": "2024-09-05T10:02:24.889Z"
   },
   {
    "duration": 4,
    "start_time": "2024-09-05T10:02:43.080Z"
   },
   {
    "duration": 19,
    "start_time": "2024-09-05T10:07:03.423Z"
   },
   {
    "duration": 11,
    "start_time": "2024-09-05T10:12:26.511Z"
   },
   {
    "duration": 20,
    "start_time": "2024-09-05T10:12:39.437Z"
   },
   {
    "duration": 44,
    "start_time": "2024-09-05T10:13:45.292Z"
   },
   {
    "duration": 51,
    "start_time": "2024-09-05T10:16:28.275Z"
   },
   {
    "duration": 83,
    "start_time": "2024-09-05T10:23:25.072Z"
   },
   {
    "duration": 56,
    "start_time": "2024-09-05T10:23:53.462Z"
   },
   {
    "duration": 43,
    "start_time": "2024-09-05T10:25:54.135Z"
   },
   {
    "duration": 45,
    "start_time": "2024-09-05T10:26:29.182Z"
   },
   {
    "duration": 39,
    "start_time": "2024-09-05T10:26:38.919Z"
   },
   {
    "duration": 40,
    "start_time": "2024-09-05T10:26:44.153Z"
   },
   {
    "duration": 39,
    "start_time": "2024-09-05T10:26:46.472Z"
   },
   {
    "duration": 7,
    "start_time": "2024-09-05T10:30:19.737Z"
   },
   {
    "duration": 6,
    "start_time": "2024-09-05T10:30:40.010Z"
   },
   {
    "duration": 8,
    "start_time": "2024-09-05T10:31:41.243Z"
   },
   {
    "duration": 107,
    "start_time": "2024-09-05T10:33:42.781Z"
   },
   {
    "duration": 12,
    "start_time": "2024-09-05T10:33:54.018Z"
   },
   {
    "duration": 7,
    "start_time": "2024-09-05T10:40:54.605Z"
   },
   {
    "duration": 4,
    "start_time": "2024-09-05T10:44:20.756Z"
   },
   {
    "duration": 6,
    "start_time": "2024-09-05T10:46:17.759Z"
   },
   {
    "duration": 11,
    "start_time": "2024-09-05T10:46:38.124Z"
   },
   {
    "duration": 8,
    "start_time": "2024-09-05T10:47:33.690Z"
   },
   {
    "duration": 369,
    "start_time": "2024-09-05T10:52:36.854Z"
   },
   {
    "duration": 11,
    "start_time": "2024-09-05T10:52:57.261Z"
   },
   {
    "duration": 11,
    "start_time": "2024-09-05T10:53:10.461Z"
   },
   {
    "duration": 10,
    "start_time": "2024-09-05T10:55:18.586Z"
   },
   {
    "duration": 6,
    "start_time": "2024-09-05T10:57:12.844Z"
   },
   {
    "duration": 9,
    "start_time": "2024-09-05T10:57:32.478Z"
   },
   {
    "duration": 7,
    "start_time": "2024-09-05T11:05:22.603Z"
   },
   {
    "duration": 6,
    "start_time": "2024-09-05T11:05:25.146Z"
   },
   {
    "duration": 8,
    "start_time": "2024-09-05T11:05:28.190Z"
   },
   {
    "duration": 3,
    "start_time": "2024-09-05T11:17:29.713Z"
   },
   {
    "duration": 24,
    "start_time": "2024-09-05T11:19:34.324Z"
   },
   {
    "duration": 4,
    "start_time": "2024-09-05T11:20:15.191Z"
   },
   {
    "duration": 24,
    "start_time": "2024-09-05T11:20:22.365Z"
   },
   {
    "duration": 4,
    "start_time": "2024-09-05T11:22:09.670Z"
   },
   {
    "duration": 4,
    "start_time": "2024-09-05T11:22:29.460Z"
   },
   {
    "duration": 10,
    "start_time": "2024-09-05T11:26:12.969Z"
   },
   {
    "duration": 10,
    "start_time": "2024-09-05T11:27:12.890Z"
   },
   {
    "duration": 4,
    "start_time": "2024-09-05T11:36:09.293Z"
   },
   {
    "duration": 4,
    "start_time": "2024-09-05T11:36:18.400Z"
   },
   {
    "duration": 5,
    "start_time": "2024-09-05T11:36:37.520Z"
   },
   {
    "duration": 8,
    "start_time": "2024-09-05T20:05:37.098Z"
   },
   {
    "duration": 4,
    "start_time": "2024-09-05T20:10:26.770Z"
   },
   {
    "duration": 16,
    "start_time": "2024-09-05T20:11:01.984Z"
   },
   {
    "duration": 3,
    "start_time": "2024-09-05T20:12:55.554Z"
   },
   {
    "duration": 36,
    "start_time": "2024-09-05T20:12:58.304Z"
   },
   {
    "duration": 4,
    "start_time": "2024-09-05T20:13:25.821Z"
   },
   {
    "duration": 16,
    "start_time": "2024-09-05T20:13:28.162Z"
   },
   {
    "duration": 17,
    "start_time": "2024-09-05T20:13:43.341Z"
   },
   {
    "duration": 11,
    "start_time": "2024-09-05T20:16:04.098Z"
   },
   {
    "duration": 282,
    "start_time": "2024-09-05T20:16:16.624Z"
   },
   {
    "duration": 130,
    "start_time": "2024-09-05T20:16:18.942Z"
   },
   {
    "duration": 9,
    "start_time": "2024-09-05T20:16:25.328Z"
   },
   {
    "duration": 21,
    "start_time": "2024-09-05T20:16:32.849Z"
   },
   {
    "duration": 3,
    "start_time": "2024-09-05T20:16:43.183Z"
   },
   {
    "duration": 6,
    "start_time": "2024-09-05T20:16:45.568Z"
   },
   {
    "duration": 4,
    "start_time": "2024-09-05T20:16:51.570Z"
   },
   {
    "duration": 18,
    "start_time": "2024-09-05T20:16:55.201Z"
   },
   {
    "duration": 10,
    "start_time": "2024-09-05T20:17:00.591Z"
   },
   {
    "duration": 18,
    "start_time": "2024-09-05T20:17:02.703Z"
   },
   {
    "duration": 42,
    "start_time": "2024-09-05T20:17:09.086Z"
   },
   {
    "duration": 45,
    "start_time": "2024-09-05T20:17:10.855Z"
   },
   {
    "duration": 42,
    "start_time": "2024-09-05T20:17:12.911Z"
   },
   {
    "duration": 8,
    "start_time": "2024-09-05T20:17:16.977Z"
   },
   {
    "duration": 9,
    "start_time": "2024-09-05T20:17:22.542Z"
   },
   {
    "duration": 8,
    "start_time": "2024-09-05T20:17:26.097Z"
   },
   {
    "duration": 7,
    "start_time": "2024-09-05T20:17:29.808Z"
   },
   {
    "duration": 8,
    "start_time": "2024-09-05T20:17:36.820Z"
   },
   {
    "duration": 11,
    "start_time": "2024-09-05T20:17:52.775Z"
   },
   {
    "duration": 9,
    "start_time": "2024-09-05T20:17:56.081Z"
   },
   {
    "duration": 3,
    "start_time": "2024-09-05T20:18:00.004Z"
   },
   {
    "duration": 13,
    "start_time": "2024-09-05T20:18:04.373Z"
   },
   {
    "duration": 10,
    "start_time": "2024-09-05T20:18:44.783Z"
   },
   {
    "duration": 12,
    "start_time": "2024-09-05T20:18:55.920Z"
   },
   {
    "duration": 11,
    "start_time": "2024-09-05T20:19:12.609Z"
   },
   {
    "duration": 13,
    "start_time": "2024-09-05T20:19:26.849Z"
   },
   {
    "duration": 15,
    "start_time": "2024-09-05T20:19:29.189Z"
   },
   {
    "duration": 35,
    "start_time": "2024-09-05T20:26:40.217Z"
   },
   {
    "duration": 5,
    "start_time": "2024-09-05T20:27:32.074Z"
   },
   {
    "duration": 13,
    "start_time": "2024-09-05T20:27:40.230Z"
   },
   {
    "duration": 4,
    "start_time": "2024-09-05T20:28:45.471Z"
   },
   {
    "duration": 5,
    "start_time": "2024-09-05T20:29:36.891Z"
   },
   {
    "duration": 53,
    "start_time": "2024-09-05T20:30:39.144Z"
   },
   {
    "duration": 53,
    "start_time": "2024-09-05T20:30:43.006Z"
   },
   {
    "duration": 52,
    "start_time": "2024-09-05T20:31:03.026Z"
   },
   {
    "duration": 51,
    "start_time": "2024-09-05T20:31:20.566Z"
   },
   {
    "duration": 396,
    "start_time": "2024-09-05T20:37:35.674Z"
   },
   {
    "duration": 59,
    "start_time": "2024-09-05T20:38:14.823Z"
   },
   {
    "duration": 42,
    "start_time": "2024-09-05T20:38:32.971Z"
   },
   {
    "duration": 4,
    "start_time": "2024-09-05T20:40:41.363Z"
   },
   {
    "duration": 88,
    "start_time": "2024-09-05T20:40:44.413Z"
   },
   {
    "duration": 149,
    "start_time": "2024-09-05T20:40:49.089Z"
   },
   {
    "duration": 2,
    "start_time": "2024-09-05T20:40:55.710Z"
   },
   {
    "duration": 106,
    "start_time": "2024-09-05T20:40:57.433Z"
   },
   {
    "duration": 9,
    "start_time": "2024-09-05T20:41:02.001Z"
   },
   {
    "duration": 21,
    "start_time": "2024-09-05T20:41:04.286Z"
   },
   {
    "duration": 4,
    "start_time": "2024-09-05T20:41:08.561Z"
   },
   {
    "duration": 5,
    "start_time": "2024-09-05T20:41:10.991Z"
   },
   {
    "duration": 4,
    "start_time": "2024-09-05T20:41:16.590Z"
   },
   {
    "duration": 19,
    "start_time": "2024-09-05T20:41:18.256Z"
   },
   {
    "duration": 11,
    "start_time": "2024-09-05T20:41:19.667Z"
   },
   {
    "duration": 17,
    "start_time": "2024-09-05T20:41:20.819Z"
   },
   {
    "duration": 41,
    "start_time": "2024-09-05T20:41:22.768Z"
   },
   {
    "duration": 44,
    "start_time": "2024-09-05T20:41:23.858Z"
   },
   {
    "duration": 38,
    "start_time": "2024-09-05T20:41:24.533Z"
   },
   {
    "duration": 7,
    "start_time": "2024-09-05T20:41:25.495Z"
   },
   {
    "duration": 8,
    "start_time": "2024-09-05T20:41:25.894Z"
   },
   {
    "duration": 9,
    "start_time": "2024-09-05T20:41:26.694Z"
   },
   {
    "duration": 2,
    "start_time": "2024-09-05T20:41:27.664Z"
   },
   {
    "duration": 7,
    "start_time": "2024-09-05T20:41:32.194Z"
   },
   {
    "duration": 8,
    "start_time": "2024-09-05T20:41:33.235Z"
   },
   {
    "duration": 10,
    "start_time": "2024-09-05T20:41:35.824Z"
   },
   {
    "duration": 10,
    "start_time": "2024-09-05T20:41:37.327Z"
   },
   {
    "duration": 4,
    "start_time": "2024-09-05T20:41:39.386Z"
   },
   {
    "duration": 12,
    "start_time": "2024-09-05T20:41:40.816Z"
   },
   {
    "duration": 11,
    "start_time": "2024-09-05T20:41:41.968Z"
   },
   {
    "duration": 11,
    "start_time": "2024-09-05T20:41:42.378Z"
   },
   {
    "duration": 10,
    "start_time": "2024-09-05T20:41:42.784Z"
   },
   {
    "duration": 3,
    "start_time": "2024-09-05T20:41:43.248Z"
   },
   {
    "duration": 11,
    "start_time": "2024-09-05T20:41:44.357Z"
   },
   {
    "duration": 51,
    "start_time": "2024-09-05T20:41:47.247Z"
   },
   {
    "duration": 43,
    "start_time": "2024-09-05T20:41:56.734Z"
   },
   {
    "duration": 46,
    "start_time": "2024-09-05T20:42:04.496Z"
   },
   {
    "duration": 48,
    "start_time": "2024-09-05T20:42:18.001Z"
   },
   {
    "duration": 3,
    "start_time": "2024-09-05T20:42:23.759Z"
   },
   {
    "duration": 95,
    "start_time": "2024-09-05T20:42:24.128Z"
   },
   {
    "duration": 8,
    "start_time": "2024-09-05T20:42:24.461Z"
   },
   {
    "duration": 20,
    "start_time": "2024-09-05T20:42:24.800Z"
   },
   {
    "duration": 4,
    "start_time": "2024-09-05T20:42:25.608Z"
   },
   {
    "duration": 7,
    "start_time": "2024-09-05T20:42:25.888Z"
   },
   {
    "duration": 4,
    "start_time": "2024-09-05T20:42:26.195Z"
   },
   {
    "duration": 18,
    "start_time": "2024-09-05T20:42:26.779Z"
   },
   {
    "duration": 11,
    "start_time": "2024-09-05T20:42:27.247Z"
   },
   {
    "duration": 18,
    "start_time": "2024-09-05T20:42:27.556Z"
   },
   {
    "duration": 42,
    "start_time": "2024-09-05T20:42:28.045Z"
   },
   {
    "duration": 42,
    "start_time": "2024-09-05T20:42:28.362Z"
   },
   {
    "duration": 38,
    "start_time": "2024-09-05T20:42:28.687Z"
   },
   {
    "duration": 7,
    "start_time": "2024-09-05T20:42:29.167Z"
   },
   {
    "duration": 7,
    "start_time": "2024-09-05T20:42:29.325Z"
   },
   {
    "duration": 7,
    "start_time": "2024-09-05T20:42:30.118Z"
   },
   {
    "duration": 2,
    "start_time": "2024-09-05T20:42:30.478Z"
   },
   {
    "duration": 7,
    "start_time": "2024-09-05T20:42:30.860Z"
   },
   {
    "duration": 9,
    "start_time": "2024-09-05T20:42:31.013Z"
   },
   {
    "duration": 11,
    "start_time": "2024-09-05T20:42:32.692Z"
   },
   {
    "duration": 10,
    "start_time": "2024-09-05T20:42:33.044Z"
   },
   {
    "duration": 4,
    "start_time": "2024-09-05T20:42:33.552Z"
   },
   {
    "duration": 12,
    "start_time": "2024-09-05T20:42:33.913Z"
   },
   {
    "duration": 11,
    "start_time": "2024-09-05T20:42:34.079Z"
   },
   {
    "duration": 11,
    "start_time": "2024-09-05T20:42:34.261Z"
   },
   {
    "duration": 11,
    "start_time": "2024-09-05T20:42:34.414Z"
   },
   {
    "duration": 3,
    "start_time": "2024-09-05T20:42:34.589Z"
   },
   {
    "duration": 11,
    "start_time": "2024-09-05T20:42:34.842Z"
   },
   {
    "duration": 51,
    "start_time": "2024-09-05T20:42:36.165Z"
   },
   {
    "duration": 189,
    "start_time": "2024-09-06T14:21:39.259Z"
   },
   {
    "duration": 22,
    "start_time": "2024-09-06T14:22:45.162Z"
   },
   {
    "duration": 339,
    "start_time": "2024-09-06T14:22:54.523Z"
   },
   {
    "duration": 144,
    "start_time": "2024-09-06T14:22:54.894Z"
   },
   {
    "duration": 9,
    "start_time": "2024-09-06T14:22:55.195Z"
   },
   {
    "duration": 40,
    "start_time": "2024-09-06T14:22:55.463Z"
   },
   {
    "duration": 4,
    "start_time": "2024-09-06T14:22:56.306Z"
   },
   {
    "duration": 6,
    "start_time": "2024-09-06T14:22:56.626Z"
   },
   {
    "duration": 4,
    "start_time": "2024-09-06T14:22:56.933Z"
   },
   {
    "duration": 18,
    "start_time": "2024-09-06T14:22:57.395Z"
   },
   {
    "duration": 15,
    "start_time": "2024-09-06T14:22:57.983Z"
   },
   {
    "duration": 20,
    "start_time": "2024-09-06T14:22:58.306Z"
   },
   {
    "duration": 45,
    "start_time": "2024-09-06T14:22:58.790Z"
   },
   {
    "duration": 47,
    "start_time": "2024-09-06T14:22:59.097Z"
   },
   {
    "duration": 43,
    "start_time": "2024-09-06T14:22:59.394Z"
   },
   {
    "duration": 26,
    "start_time": "2024-09-06T14:23:00.169Z"
   },
   {
    "duration": 8,
    "start_time": "2024-09-06T14:23:00.355Z"
   },
   {
    "duration": 14,
    "start_time": "2024-09-06T14:23:00.686Z"
   },
   {
    "duration": 2,
    "start_time": "2024-09-06T14:23:01.000Z"
   },
   {
    "duration": 7,
    "start_time": "2024-09-06T14:23:01.319Z"
   },
   {
    "duration": 12,
    "start_time": "2024-09-06T14:23:01.478Z"
   },
   {
    "duration": 18,
    "start_time": "2024-09-06T14:23:02.784Z"
   },
   {
    "duration": 10,
    "start_time": "2024-09-06T14:23:03.333Z"
   },
   {
    "duration": 13,
    "start_time": "2024-09-06T14:23:04.802Z"
   },
   {
    "duration": 13,
    "start_time": "2024-09-06T14:23:05.696Z"
   },
   {
    "duration": 12,
    "start_time": "2024-09-06T14:23:05.918Z"
   },
   {
    "duration": 14,
    "start_time": "2024-09-06T14:23:06.092Z"
   },
   {
    "duration": 11,
    "start_time": "2024-09-06T14:23:06.250Z"
   },
   {
    "duration": 5,
    "start_time": "2024-09-06T14:23:06.417Z"
   },
   {
    "duration": 28,
    "start_time": "2024-09-06T14:23:06.574Z"
   },
   {
    "duration": 70,
    "start_time": "2024-09-06T14:23:06.856Z"
   },
   {
    "duration": 3,
    "start_time": "2024-09-06T14:23:07.944Z"
   },
   {
    "duration": 3,
    "start_time": "2024-09-06T14:23:08.107Z"
   },
   {
    "duration": 4,
    "start_time": "2024-09-06T14:23:08.429Z"
   },
   {
    "duration": 2,
    "start_time": "2024-09-06T14:23:08.739Z"
   },
   {
    "duration": 4,
    "start_time": "2024-09-06T14:23:08.900Z"
   },
   {
    "duration": 2,
    "start_time": "2024-09-06T14:23:09.056Z"
   },
   {
    "duration": 3,
    "start_time": "2024-09-06T14:23:09.228Z"
   },
   {
    "duration": 3,
    "start_time": "2024-09-06T14:23:25.850Z"
   },
   {
    "duration": 4,
    "start_time": "2024-09-06T14:23:38.250Z"
   },
   {
    "duration": 3,
    "start_time": "2024-09-06T14:24:06.265Z"
   },
   {
    "duration": 6,
    "start_time": "2024-09-06T14:24:20.499Z"
   },
   {
    "duration": 6,
    "start_time": "2024-09-06T14:46:46.441Z"
   },
   {
    "duration": 7,
    "start_time": "2024-09-06T14:49:29.883Z"
   },
   {
    "duration": 4,
    "start_time": "2024-09-06T14:50:21.815Z"
   },
   {
    "duration": 498,
    "start_time": "2024-09-06T14:55:00.618Z"
   },
   {
    "duration": 56,
    "start_time": "2024-09-06T14:55:11.376Z"
   },
   {
    "duration": 55,
    "start_time": "2024-09-06T14:55:21.979Z"
   },
   {
    "duration": 43,
    "start_time": "2024-09-06T14:55:53.099Z"
   },
   {
    "duration": 8,
    "start_time": "2024-09-06T14:57:34.891Z"
   },
   {
    "duration": 44,
    "start_time": "2024-09-06T15:08:18.623Z"
   },
   {
    "duration": 12,
    "start_time": "2024-09-06T15:08:36.498Z"
   },
   {
    "duration": 65,
    "start_time": "2024-09-06T15:09:27.429Z"
   },
   {
    "duration": 3,
    "start_time": "2024-09-06T15:13:14.696Z"
   },
   {
    "duration": 37,
    "start_time": "2024-09-06T15:15:01.896Z"
   },
   {
    "duration": 58,
    "start_time": "2024-09-06T15:15:47.941Z"
   },
   {
    "duration": 39,
    "start_time": "2024-09-06T15:16:00.605Z"
   },
   {
    "duration": 44,
    "start_time": "2024-09-06T15:16:21.605Z"
   },
   {
    "duration": 82,
    "start_time": "2024-09-06T15:19:56.424Z"
   },
   {
    "duration": 26,
    "start_time": "2024-09-06T15:20:31.958Z"
   },
   {
    "duration": 64,
    "start_time": "2024-09-06T15:22:16.286Z"
   },
   {
    "duration": 3,
    "start_time": "2024-09-06T15:23:43.852Z"
   },
   {
    "duration": 5,
    "start_time": "2024-09-06T15:25:16.722Z"
   },
   {
    "duration": 47,
    "start_time": "2024-09-06T15:25:43.898Z"
   },
   {
    "duration": 5,
    "start_time": "2024-09-06T15:29:40.495Z"
   },
   {
    "duration": 5,
    "start_time": "2024-09-06T15:29:44.730Z"
   },
   {
    "duration": 8,
    "start_time": "2024-09-06T15:29:53.285Z"
   },
   {
    "duration": 84,
    "start_time": "2024-09-06T15:29:56.426Z"
   },
   {
    "duration": 2,
    "start_time": "2024-09-06T15:30:19.718Z"
   },
   {
    "duration": 112,
    "start_time": "2024-09-06T15:30:20.303Z"
   },
   {
    "duration": 9,
    "start_time": "2024-09-06T15:30:20.718Z"
   },
   {
    "duration": 22,
    "start_time": "2024-09-06T15:30:21.095Z"
   },
   {
    "duration": 6,
    "start_time": "2024-09-06T15:30:22.090Z"
   },
   {
    "duration": 5,
    "start_time": "2024-09-06T15:30:22.410Z"
   },
   {
    "duration": 3,
    "start_time": "2024-09-06T15:30:22.719Z"
   },
   {
    "duration": 24,
    "start_time": "2024-09-06T15:30:23.190Z"
   },
   {
    "duration": 20,
    "start_time": "2024-09-06T15:30:23.682Z"
   },
   {
    "duration": 20,
    "start_time": "2024-09-06T15:30:24.004Z"
   },
   {
    "duration": 45,
    "start_time": "2024-09-06T15:30:24.500Z"
   },
   {
    "duration": 61,
    "start_time": "2024-09-06T15:30:24.842Z"
   },
   {
    "duration": 54,
    "start_time": "2024-09-06T15:30:25.182Z"
   },
   {
    "duration": 7,
    "start_time": "2024-09-06T15:30:25.803Z"
   },
   {
    "duration": 8,
    "start_time": "2024-09-06T15:30:26.419Z"
   },
   {
    "duration": 8,
    "start_time": "2024-09-06T15:30:27.221Z"
   },
   {
    "duration": 2,
    "start_time": "2024-09-06T15:30:27.704Z"
   },
   {
    "duration": 13,
    "start_time": "2024-09-06T15:30:28.312Z"
   },
   {
    "duration": 8,
    "start_time": "2024-09-06T15:30:28.602Z"
   },
   {
    "duration": 11,
    "start_time": "2024-09-06T15:30:30.645Z"
   },
   {
    "duration": 13,
    "start_time": "2024-09-06T15:30:31.190Z"
   },
   {
    "duration": 3,
    "start_time": "2024-09-06T15:30:31.781Z"
   },
   {
    "duration": 17,
    "start_time": "2024-09-06T15:30:32.170Z"
   },
   {
    "duration": 18,
    "start_time": "2024-09-06T15:30:34.259Z"
   },
   {
    "duration": 13,
    "start_time": "2024-09-06T15:30:34.610Z"
   },
   {
    "duration": 15,
    "start_time": "2024-09-06T15:30:34.814Z"
   },
   {
    "duration": 4,
    "start_time": "2024-09-06T15:30:35.100Z"
   },
   {
    "duration": 13,
    "start_time": "2024-09-06T15:30:46.811Z"
   },
   {
    "duration": 17,
    "start_time": "2024-09-06T15:30:50.072Z"
   },
   {
    "duration": 55,
    "start_time": "2024-09-06T15:30:51.736Z"
   },
   {
    "duration": 5,
    "start_time": "2024-09-06T15:30:56.099Z"
   },
   {
    "duration": 4,
    "start_time": "2024-09-06T15:30:57.325Z"
   },
   {
    "duration": 4,
    "start_time": "2024-09-06T15:30:59.461Z"
   },
   {
    "duration": 65,
    "start_time": "2024-09-06T15:31:03.060Z"
   },
   {
    "duration": 3,
    "start_time": "2024-09-06T15:31:42.236Z"
   },
   {
    "duration": 5,
    "start_time": "2024-09-06T15:31:51.422Z"
   },
   {
    "duration": 3,
    "start_time": "2024-09-06T15:32:18.723Z"
   },
   {
    "duration": 188,
    "start_time": "2024-09-06T15:32:44.140Z"
   },
   {
    "duration": 4,
    "start_time": "2024-09-06T15:33:03.261Z"
   },
   {
    "duration": 67,
    "start_time": "2024-09-06T15:34:01.760Z"
   },
   {
    "duration": 3,
    "start_time": "2024-09-06T15:34:30.195Z"
   },
   {
    "duration": 71,
    "start_time": "2024-09-06T15:34:36.956Z"
   },
   {
    "duration": 44,
    "start_time": "2024-09-06T15:34:56.403Z"
   },
   {
    "duration": 49,
    "start_time": "2024-09-06T15:35:31.784Z"
   },
   {
    "duration": 64,
    "start_time": "2024-09-06T15:36:43.064Z"
   },
   {
    "duration": 44,
    "start_time": "2024-09-06T15:38:33.007Z"
   },
   {
    "duration": 129,
    "start_time": "2024-09-06T15:43:19.578Z"
   },
   {
    "duration": 43,
    "start_time": "2024-09-06T15:43:41.519Z"
   },
   {
    "duration": 2,
    "start_time": "2024-09-06T15:45:36.549Z"
   },
   {
    "duration": 112,
    "start_time": "2024-09-06T15:45:38.228Z"
   },
   {
    "duration": 9,
    "start_time": "2024-09-06T15:45:41.634Z"
   },
   {
    "duration": 38,
    "start_time": "2024-09-06T15:45:45.859Z"
   },
   {
    "duration": 6,
    "start_time": "2024-09-06T15:45:51.476Z"
   },
   {
    "duration": 7,
    "start_time": "2024-09-06T15:45:55.043Z"
   },
   {
    "duration": 4,
    "start_time": "2024-09-06T15:45:58.133Z"
   },
   {
    "duration": 36,
    "start_time": "2024-09-06T15:46:00.564Z"
   },
   {
    "duration": 11,
    "start_time": "2024-09-06T15:46:03.506Z"
   },
   {
    "duration": 19,
    "start_time": "2024-09-06T15:46:06.242Z"
   },
   {
    "duration": 43,
    "start_time": "2024-09-06T15:46:09.303Z"
   },
   {
    "duration": 43,
    "start_time": "2024-09-06T15:46:11.301Z"
   },
   {
    "duration": 42,
    "start_time": "2024-09-06T15:46:13.525Z"
   },
   {
    "duration": 7,
    "start_time": "2024-09-06T15:46:16.452Z"
   },
   {
    "duration": 9,
    "start_time": "2024-09-06T15:46:19.539Z"
   },
   {
    "duration": 8,
    "start_time": "2024-09-06T15:46:23.798Z"
   },
   {
    "duration": 17,
    "start_time": "2024-09-06T15:46:27.268Z"
   },
   {
    "duration": 8,
    "start_time": "2024-09-06T15:46:30.434Z"
   },
   {
    "duration": 10,
    "start_time": "2024-09-06T15:46:34.245Z"
   },
   {
    "duration": 13,
    "start_time": "2024-09-06T15:46:36.191Z"
   },
   {
    "duration": 4,
    "start_time": "2024-09-06T15:46:40.148Z"
   },
   {
    "duration": 13,
    "start_time": "2024-09-06T15:46:45.620Z"
   },
   {
    "duration": 36,
    "start_time": "2024-09-06T15:46:46.962Z"
   },
   {
    "duration": 12,
    "start_time": "2024-09-06T15:46:47.669Z"
   },
   {
    "duration": 14,
    "start_time": "2024-09-06T15:46:48.259Z"
   },
   {
    "duration": 18,
    "start_time": "2024-09-06T15:46:48.982Z"
   },
   {
    "duration": 31,
    "start_time": "2024-09-06T15:46:51.579Z"
   },
   {
    "duration": 52,
    "start_time": "2024-09-06T15:46:55.413Z"
   },
   {
    "duration": 19,
    "start_time": "2024-09-06T15:47:05.984Z"
   },
   {
    "duration": 9,
    "start_time": "2024-09-06T15:47:19.894Z"
   },
   {
    "duration": 10,
    "start_time": "2024-09-06T15:47:25.190Z"
   },
   {
    "duration": 4,
    "start_time": "2024-09-06T15:47:30.419Z"
   },
   {
    "duration": 32,
    "start_time": "2024-09-06T15:47:33.256Z"
   },
   {
    "duration": 4,
    "start_time": "2024-09-06T15:47:58.324Z"
   },
   {
    "duration": 19,
    "start_time": "2024-09-06T15:48:02.147Z"
   },
   {
    "duration": 39,
    "start_time": "2024-09-06T15:48:49.066Z"
   },
   {
    "duration": 21,
    "start_time": "2024-09-06T15:49:55.178Z"
   },
   {
    "duration": 38,
    "start_time": "2024-09-06T15:50:33.270Z"
   },
   {
    "duration": 15,
    "start_time": "2024-09-06T15:51:32.245Z"
   },
   {
    "duration": 12,
    "start_time": "2024-09-06T15:52:01.622Z"
   },
   {
    "duration": 159,
    "start_time": "2024-09-07T14:14:19.287Z"
   },
   {
    "duration": 12,
    "start_time": "2024-09-07T14:14:34.691Z"
   },
   {
    "duration": 294,
    "start_time": "2024-09-07T14:14:43.994Z"
   },
   {
    "duration": 131,
    "start_time": "2024-09-07T14:14:44.419Z"
   },
   {
    "duration": 9,
    "start_time": "2024-09-07T14:14:44.750Z"
   },
   {
    "duration": 21,
    "start_time": "2024-09-07T14:14:45.078Z"
   },
   {
    "duration": 4,
    "start_time": "2024-09-07T14:14:45.929Z"
   },
   {
    "duration": 7,
    "start_time": "2024-09-07T14:14:46.203Z"
   },
   {
    "duration": 4,
    "start_time": "2024-09-07T14:14:46.496Z"
   },
   {
    "duration": 18,
    "start_time": "2024-09-07T14:14:46.931Z"
   },
   {
    "duration": 10,
    "start_time": "2024-09-07T14:14:47.481Z"
   },
   {
    "duration": 17,
    "start_time": "2024-09-07T14:14:47.832Z"
   },
   {
    "duration": 44,
    "start_time": "2024-09-07T14:14:48.251Z"
   },
   {
    "duration": 47,
    "start_time": "2024-09-07T14:14:48.559Z"
   },
   {
    "duration": 40,
    "start_time": "2024-09-07T14:14:48.869Z"
   },
   {
    "duration": 6,
    "start_time": "2024-09-07T14:14:49.480Z"
   },
   {
    "duration": 8,
    "start_time": "2024-09-07T14:14:49.636Z"
   },
   {
    "duration": 8,
    "start_time": "2024-09-07T14:14:49.927Z"
   },
   {
    "duration": 2,
    "start_time": "2024-09-07T14:14:50.241Z"
   },
   {
    "duration": 10,
    "start_time": "2024-09-07T14:14:50.568Z"
   },
   {
    "duration": 9,
    "start_time": "2024-09-07T14:14:50.708Z"
   },
   {
    "duration": 10,
    "start_time": "2024-09-07T14:14:53.029Z"
   },
   {
    "duration": 10,
    "start_time": "2024-09-07T14:14:54.804Z"
   },
   {
    "duration": 4,
    "start_time": "2024-09-07T14:14:56.104Z"
   },
   {
    "duration": 13,
    "start_time": "2024-09-07T14:14:56.818Z"
   },
   {
    "duration": 10,
    "start_time": "2024-09-07T14:14:57.190Z"
   },
   {
    "duration": 12,
    "start_time": "2024-09-07T14:14:57.387Z"
   },
   {
    "duration": 11,
    "start_time": "2024-09-07T14:14:57.571Z"
   },
   {
    "duration": 12,
    "start_time": "2024-09-07T14:14:58.045Z"
   },
   {
    "duration": 12,
    "start_time": "2024-09-07T14:15:01.657Z"
   },
   {
    "duration": 53,
    "start_time": "2024-09-07T14:15:03.776Z"
   },
   {
    "duration": 8,
    "start_time": "2024-09-07T14:15:07.007Z"
   },
   {
    "duration": 7,
    "start_time": "2024-09-07T14:15:07.826Z"
   },
   {
    "duration": 4,
    "start_time": "2024-09-07T14:15:09.179Z"
   },
   {
    "duration": 19,
    "start_time": "2024-09-07T14:15:10.214Z"
   },
   {
    "duration": 12,
    "start_time": "2024-09-07T14:15:10.455Z"
   },
   {
    "duration": 17,
    "start_time": "2024-09-07T14:15:10.685Z"
   },
   {
    "duration": 14,
    "start_time": "2024-09-07T14:15:10.978Z"
   },
   {
    "duration": 9,
    "start_time": "2024-09-07T14:15:13.749Z"
   },
   {
    "duration": 3,
    "start_time": "2024-09-07T14:15:15.315Z"
   },
   {
    "duration": 6,
    "start_time": "2024-09-07T14:16:00.408Z"
   },
   {
    "duration": 4,
    "start_time": "2024-09-07T14:16:13.507Z"
   },
   {
    "duration": 330,
    "start_time": "2024-09-07T19:34:09.940Z"
   },
   {
    "duration": 127,
    "start_time": "2024-09-07T19:34:10.272Z"
   },
   {
    "duration": 9,
    "start_time": "2024-09-07T19:34:10.400Z"
   },
   {
    "duration": 24,
    "start_time": "2024-09-07T19:34:10.412Z"
   },
   {
    "duration": 3,
    "start_time": "2024-09-07T19:34:10.438Z"
   },
   {
    "duration": 7,
    "start_time": "2024-09-07T19:34:10.443Z"
   },
   {
    "duration": 4,
    "start_time": "2024-09-07T19:34:10.452Z"
   },
   {
    "duration": 16,
    "start_time": "2024-09-07T19:34:10.457Z"
   },
   {
    "duration": 10,
    "start_time": "2024-09-07T19:34:10.474Z"
   },
   {
    "duration": 44,
    "start_time": "2024-09-07T19:34:10.487Z"
   },
   {
    "duration": 41,
    "start_time": "2024-09-07T19:34:10.532Z"
   },
   {
    "duration": 57,
    "start_time": "2024-09-07T19:34:10.574Z"
   },
   {
    "duration": 37,
    "start_time": "2024-09-07T19:34:10.632Z"
   },
   {
    "duration": 6,
    "start_time": "2024-09-07T19:34:10.671Z"
   },
   {
    "duration": 8,
    "start_time": "2024-09-07T19:34:10.679Z"
   },
   {
    "duration": 8,
    "start_time": "2024-09-07T19:34:10.688Z"
   },
   {
    "duration": 28,
    "start_time": "2024-09-07T19:34:10.697Z"
   },
   {
    "duration": 6,
    "start_time": "2024-09-07T19:34:10.726Z"
   },
   {
    "duration": 7,
    "start_time": "2024-09-07T19:34:10.734Z"
   },
   {
    "duration": 10,
    "start_time": "2024-09-07T19:34:10.742Z"
   },
   {
    "duration": 8,
    "start_time": "2024-09-07T19:34:10.753Z"
   },
   {
    "duration": 4,
    "start_time": "2024-09-07T19:34:10.763Z"
   },
   {
    "duration": 12,
    "start_time": "2024-09-07T19:34:10.768Z"
   },
   {
    "duration": 47,
    "start_time": "2024-09-07T19:34:10.781Z"
   },
   {
    "duration": 11,
    "start_time": "2024-09-07T19:34:10.829Z"
   },
   {
    "duration": 11,
    "start_time": "2024-09-07T19:34:10.841Z"
   },
   {
    "duration": 11,
    "start_time": "2024-09-07T19:34:10.854Z"
   },
   {
    "duration": 11,
    "start_time": "2024-09-07T19:34:10.868Z"
   },
   {
    "duration": 80,
    "start_time": "2024-09-07T19:34:10.880Z"
   },
   {
    "duration": 9,
    "start_time": "2024-09-07T19:34:10.963Z"
   },
   {
    "duration": 7,
    "start_time": "2024-09-07T19:34:10.973Z"
   },
   {
    "duration": 4,
    "start_time": "2024-09-07T19:34:10.981Z"
   },
   {
    "duration": 18,
    "start_time": "2024-09-07T19:34:10.987Z"
   },
   {
    "duration": 11,
    "start_time": "2024-09-07T19:34:11.024Z"
   },
   {
    "duration": 15,
    "start_time": "2024-09-07T19:34:11.037Z"
   },
   {
    "duration": 9,
    "start_time": "2024-09-07T19:34:11.054Z"
   },
   {
    "duration": 7,
    "start_time": "2024-09-07T19:34:11.065Z"
   },
   {
    "duration": 3,
    "start_time": "2024-09-07T19:34:11.074Z"
   },
   {
    "duration": 5,
    "start_time": "2024-09-07T19:34:11.079Z"
   },
   {
    "duration": 39,
    "start_time": "2024-09-07T19:34:11.085Z"
   }
  ],
  "colab": {
   "collapsed_sections": [
    "E0vqbgi9ay0H",
    "VUC88oWjTJw2",
    "atZAxtq4_Zcu"
   ],
   "name": "EmptyFinalProject.ipynb\"",
   "provenance": []
  },
  "kernelspec": {
   "display_name": "Python 3 (ipykernel)",
   "language": "python",
   "name": "python3"
  },
  "language_info": {
   "codemirror_mode": {
    "name": "ipython",
    "version": 3
   },
   "file_extension": ".py",
   "mimetype": "text/x-python",
   "name": "python",
   "nbconvert_exporter": "python",
   "pygments_lexer": "ipython3",
   "version": "3.12.4"
  },
  "toc": {
   "base_numbering": 1,
   "nav_menu": {},
   "number_sections": true,
   "sideBar": true,
   "skip_h1_title": true,
   "title_cell": "Table of Contents",
   "title_sidebar": "Contents",
   "toc_cell": false,
   "toc_position": {
    "height": "calc(100% - 180px)",
    "left": "10px",
    "top": "150px",
    "width": "265px"
   },
   "toc_section_display": true,
   "toc_window_display": true
  }
 },
 "nbformat": 4,
 "nbformat_minor": 4
}
